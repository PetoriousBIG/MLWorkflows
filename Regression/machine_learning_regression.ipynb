{
 "cells": [
  {
   "cell_type": "markdown",
   "id": "8db49d56-6f04-4e4f-8fb2-67c24f7e7112",
   "metadata": {},
   "source": [
    "## import packages"
   ]
  },
  {
   "cell_type": "code",
   "execution_count": 1,
   "id": "db6a4544",
   "metadata": {},
   "outputs": [],
   "source": [
    "import pandas as pd\n",
    "import numpy as np\n",
    "import sys\n",
    "from sklearn.pipeline import Pipeline\n",
    "from sklearn.preprocessing import StandardScaler\n",
    "from sklearn.impute import SimpleImputer\n",
    "from sklearn.compose import ColumnTransformer\n",
    "from sklearn.metrics import mean_squared_error, root_mean_squared_error\n",
    "from sklearn.model_selection import cross_val_score\n",
    "from sklearn.linear_model import LinearRegression\n",
    "# from sklearn.model_selection import train_test_split\n",
    "import matplotlib.pyplot as plt\n",
    "import time\n",
    "from pathlib import Path\n",
    "import os"
   ]
  },
  {
   "cell_type": "markdown",
   "id": "d6d74520",
   "metadata": {},
   "source": [
    "## set up for imports of .py modules by adding path to sys.path"
   ]
  },
  {
   "cell_type": "code",
   "execution_count": 2,
   "id": "ea617f3a",
   "metadata": {},
   "outputs": [
    {
     "name": "stdout",
     "output_type": "stream",
     "text": [
      "/home/peter/Desktop/DS5220/Labs/lecture_1_lab_2/lecture_1_lab_2\n"
     ]
    }
   ],
   "source": [
    "path = Path(os.getcwd())\n",
    "path = str(path)\n",
    "print(path)\n",
    "sys.path.insert(1, path)"
   ]
  },
  {
   "cell_type": "markdown",
   "id": "594850d1-47d0-4d5f-b13d-4ea89277a4db",
   "metadata": {},
   "source": [
    "## import python modules"
   ]
  },
  {
   "cell_type": "code",
   "execution_count": 3,
   "id": "8eb57fbe",
   "metadata": {},
   "outputs": [],
   "source": [
    "import utils.lecture_1_lab_2_utils as utils"
   ]
  },
  {
   "cell_type": "markdown",
   "id": "912da942-33ca-4fd1-b11c-15a853f86baa",
   "metadata": {},
   "source": [
    "## helpful functions"
   ]
  },
  {
   "cell_type": "code",
   "execution_count": 4,
   "id": "2d345b29-3d24-4edd-b18a-c93eac2fc42a",
   "metadata": {},
   "outputs": [],
   "source": [
    "def plot_pred_vs_actual(pred_y_df, train_y_df, data_set_name):\n",
    "    plt.scatter(train_y_df, pred_y_df)  # plot predicted y vs true y\n",
    "    plt.plot(train_y_df, train_y_df, 'b')  # plot a line of slope 1 demonstrating perfect predictions\n",
    "    plt.grid()\n",
    "    plt.xlabel('actual')\n",
    "    plt.ylabel('predicted')\n",
    "    plt.title(data_set_name)\n",
    "    plt.show()"
   ]
  },
  {
   "cell_type": "markdown",
   "id": "7372391d",
   "metadata": {},
   "source": [
    "## parameters"
   ]
  },
  {
   "cell_type": "code",
   "execution_count": 5,
   "id": "79a0a7ae",
   "metadata": {},
   "outputs": [],
   "source": [
    "path_to_data = 'modified_fara_pima_ds5220.csv'\n",
    "target_attr = 'age'\n",
    "test_size = 0.20\n",
    "train_test_split_random_state = 42\n",
    "missingness_threshold = 0.20"
   ]
  },
  {
   "cell_type": "markdown",
   "id": "65d7251a",
   "metadata": {},
   "source": [
    "## set up to time script run time"
   ]
  },
  {
   "cell_type": "code",
   "execution_count": 6,
   "id": "c92dc12e",
   "metadata": {},
   "outputs": [],
   "source": [
    "start = time.time()"
   ]
  },
  {
   "cell_type": "markdown",
   "id": "4d6b6299",
   "metadata": {},
   "source": [
    "## read in the data and get the size of the data. note that this data set is a moddified version of the pima data set."
   ]
  },
  {
   "cell_type": "markdown",
   "id": "ef54a838-e9eb-4ce6-98f0-c4da8af72d8f",
   "metadata": {},
   "source": [
    "https://www.kaggle.com/datasets/uciml/pima-indians-diabetes-database"
   ]
  },
  {
   "cell_type": "code",
   "execution_count": 7,
   "id": "3a453de0",
   "metadata": {
    "scrolled": true
   },
   "outputs": [
    {
     "name": "stdout",
     "output_type": "stream",
     "text": [
      "(768, 8)\n"
     ]
    },
    {
     "data": {
      "text/html": [
       "<div>\n",
       "<style scoped>\n",
       "    .dataframe tbody tr th:only-of-type {\n",
       "        vertical-align: middle;\n",
       "    }\n",
       "\n",
       "    .dataframe tbody tr th {\n",
       "        vertical-align: top;\n",
       "    }\n",
       "\n",
       "    .dataframe thead th {\n",
       "        text-align: right;\n",
       "    }\n",
       "</style>\n",
       "<table border=\"1\" class=\"dataframe\">\n",
       "  <thead>\n",
       "    <tr style=\"text-align: right;\">\n",
       "      <th></th>\n",
       "      <th>pregnant</th>\n",
       "      <th>glucose</th>\n",
       "      <th>diastolic</th>\n",
       "      <th>triceps</th>\n",
       "      <th>insulin</th>\n",
       "      <th>bmi</th>\n",
       "      <th>diabetes</th>\n",
       "      <th>age</th>\n",
       "    </tr>\n",
       "  </thead>\n",
       "  <tbody>\n",
       "    <tr>\n",
       "      <th>0</th>\n",
       "      <td>6.0</td>\n",
       "      <td>148.0</td>\n",
       "      <td>72.0</td>\n",
       "      <td>35.0</td>\n",
       "      <td>0.0</td>\n",
       "      <td>33.6</td>\n",
       "      <td>0.627</td>\n",
       "      <td>50.0</td>\n",
       "    </tr>\n",
       "    <tr>\n",
       "      <th>1</th>\n",
       "      <td>1.0</td>\n",
       "      <td>85.0</td>\n",
       "      <td>66.0</td>\n",
       "      <td>29.0</td>\n",
       "      <td>0.0</td>\n",
       "      <td>NaN</td>\n",
       "      <td>0.351</td>\n",
       "      <td>31.0</td>\n",
       "    </tr>\n",
       "    <tr>\n",
       "      <th>2</th>\n",
       "      <td>8.0</td>\n",
       "      <td>183.0</td>\n",
       "      <td>64.0</td>\n",
       "      <td>0.0</td>\n",
       "      <td>0.0</td>\n",
       "      <td>23.3</td>\n",
       "      <td>0.672</td>\n",
       "      <td>32.0</td>\n",
       "    </tr>\n",
       "    <tr>\n",
       "      <th>3</th>\n",
       "      <td>1.0</td>\n",
       "      <td>89.0</td>\n",
       "      <td>66.0</td>\n",
       "      <td>23.0</td>\n",
       "      <td>94.0</td>\n",
       "      <td>28.1</td>\n",
       "      <td>0.167</td>\n",
       "      <td>21.0</td>\n",
       "    </tr>\n",
       "    <tr>\n",
       "      <th>4</th>\n",
       "      <td>0.0</td>\n",
       "      <td>137.0</td>\n",
       "      <td>40.0</td>\n",
       "      <td>35.0</td>\n",
       "      <td>168.0</td>\n",
       "      <td>43.1</td>\n",
       "      <td>2.288</td>\n",
       "      <td>33.0</td>\n",
       "    </tr>\n",
       "  </tbody>\n",
       "</table>\n",
       "</div>"
      ],
      "text/plain": [
       "   pregnant  glucose  diastolic  triceps  insulin   bmi  diabetes   age\n",
       "0       6.0    148.0       72.0     35.0      0.0  33.6     0.627  50.0\n",
       "1       1.0     85.0       66.0     29.0      0.0   NaN     0.351  31.0\n",
       "2       8.0    183.0       64.0      0.0      0.0  23.3     0.672  32.0\n",
       "3       1.0     89.0       66.0     23.0     94.0  28.1     0.167  21.0\n",
       "4       0.0    137.0       40.0     35.0    168.0  43.1     2.288  33.0"
      ]
     },
     "execution_count": 7,
     "metadata": {},
     "output_type": "execute_result"
    }
   ],
   "source": [
    "df = pd.read_csv(path_to_data)\n",
    "print(df.shape)\n",
    "df.head()"
   ]
  },
  {
   "cell_type": "markdown",
   "id": "2c4038d6-34e2-4a47-937f-4b656ad18d48",
   "metadata": {},
   "source": [
    "## 1. check for missingness in target vector"
   ]
  },
  {
   "cell_type": "markdown",
   "id": "28f06d24",
   "metadata": {},
   "source": [
    "### we are going to regress age on the other attributes - since age is the response we drop all observations for which age is equal to nan - never impute the target"
   ]
  },
  {
   "cell_type": "code",
   "execution_count": 8,
   "id": "731ef04d",
   "metadata": {},
   "outputs": [
    {
     "name": "stdout",
     "output_type": "stream",
     "text": [
      "(768, 8)\n",
      "(760, 8)\n"
     ]
    }
   ],
   "source": [
    "print(df.shape)\n",
    "df = df.dropna(subset=target_attr)\n",
    "print(df.shape)"
   ]
  },
  {
   "cell_type": "markdown",
   "id": "bee95090-d432-42c4-ad3c-d5c987f1ea3f",
   "metadata": {},
   "source": [
    "## 2. train/test split"
   ]
  },
  {
   "cell_type": "markdown",
   "id": "f3beac77",
   "metadata": {},
   "source": [
    "### save the train and test set. delete the test set data frame and the original data frame so there is no way they can be used in training."
   ]
  },
  {
   "cell_type": "code",
   "execution_count": 9,
   "id": "cbc95443",
   "metadata": {},
   "outputs": [
    {
     "name": "stdout",
     "output_type": "stream",
     "text": [
      "*************************\n",
      "\n",
      "df.shape:\n",
      "(760, 8)\n",
      "\n",
      "*************************\n",
      "\n",
      "train_df.csv:\n",
      "(608, 7) (608, 1)\n",
      "\n",
      "*************************\n",
      "\n",
      "test_df.csv\n",
      "(152, 7) (152, 1)\n"
     ]
    }
   ],
   "source": [
    "train_cap_x_df, train_y_df = utils.perform_the_train_test_split(df, test_size, train_test_split_random_state, val=False)"
   ]
  },
  {
   "cell_type": "code",
   "execution_count": 10,
   "id": "114abf92",
   "metadata": {},
   "outputs": [],
   "source": [
    "del df"
   ]
  },
  {
   "cell_type": "code",
   "execution_count": 11,
   "id": "6be145d4-bb15-4422-8732-58ae253222c6",
   "metadata": {},
   "outputs": [
    {
     "data": {
      "text/html": [
       "<div>\n",
       "<style scoped>\n",
       "    .dataframe tbody tr th:only-of-type {\n",
       "        vertical-align: middle;\n",
       "    }\n",
       "\n",
       "    .dataframe tbody tr th {\n",
       "        vertical-align: top;\n",
       "    }\n",
       "\n",
       "    .dataframe thead th {\n",
       "        text-align: right;\n",
       "    }\n",
       "</style>\n",
       "<table border=\"1\" class=\"dataframe\">\n",
       "  <thead>\n",
       "    <tr style=\"text-align: right;\">\n",
       "      <th></th>\n",
       "      <th>pregnant</th>\n",
       "      <th>glucose</th>\n",
       "      <th>diastolic</th>\n",
       "      <th>triceps</th>\n",
       "      <th>insulin</th>\n",
       "      <th>bmi</th>\n",
       "      <th>diabetes</th>\n",
       "    </tr>\n",
       "  </thead>\n",
       "  <tbody>\n",
       "    <tr>\n",
       "      <th>701</th>\n",
       "      <td>6.0</td>\n",
       "      <td>125.0</td>\n",
       "      <td>78.0</td>\n",
       "      <td>31.0</td>\n",
       "      <td>0.0</td>\n",
       "      <td>27.6</td>\n",
       "      <td>0.565</td>\n",
       "    </tr>\n",
       "    <tr>\n",
       "      <th>363</th>\n",
       "      <td>4.0</td>\n",
       "      <td>146.0</td>\n",
       "      <td>78.0</td>\n",
       "      <td>0.0</td>\n",
       "      <td>0.0</td>\n",
       "      <td>38.5</td>\n",
       "      <td>0.520</td>\n",
       "    </tr>\n",
       "    <tr>\n",
       "      <th>267</th>\n",
       "      <td>2.0</td>\n",
       "      <td>128.0</td>\n",
       "      <td>64.0</td>\n",
       "      <td>42.0</td>\n",
       "      <td>0.0</td>\n",
       "      <td>40.0</td>\n",
       "      <td>1.101</td>\n",
       "    </tr>\n",
       "    <tr>\n",
       "      <th>90</th>\n",
       "      <td>1.0</td>\n",
       "      <td>80.0</td>\n",
       "      <td>55.0</td>\n",
       "      <td>0.0</td>\n",
       "      <td>0.0</td>\n",
       "      <td>19.1</td>\n",
       "      <td>0.258</td>\n",
       "    </tr>\n",
       "    <tr>\n",
       "      <th>370</th>\n",
       "      <td>3.0</td>\n",
       "      <td>173.0</td>\n",
       "      <td>82.0</td>\n",
       "      <td>48.0</td>\n",
       "      <td>465.0</td>\n",
       "      <td>38.4</td>\n",
       "      <td>2.137</td>\n",
       "    </tr>\n",
       "  </tbody>\n",
       "</table>\n",
       "</div>"
      ],
      "text/plain": [
       "     pregnant  glucose  diastolic  triceps  insulin   bmi  diabetes\n",
       "701       6.0    125.0       78.0     31.0      0.0  27.6     0.565\n",
       "363       4.0    146.0       78.0      0.0      0.0  38.5     0.520\n",
       "267       2.0    128.0       64.0     42.0      0.0  40.0     1.101\n",
       "90        1.0     80.0       55.0      0.0      0.0  19.1     0.258\n",
       "370       3.0    173.0       82.0     48.0    465.0  38.4     2.137"
      ]
     },
     "execution_count": 11,
     "metadata": {},
     "output_type": "execute_result"
    }
   ],
   "source": [
    "train_cap_x_df.head()"
   ]
  },
  {
   "cell_type": "code",
   "execution_count": 12,
   "id": "f65a5928-d91b-4e7a-80f6-7159fbdf2483",
   "metadata": {},
   "outputs": [
    {
     "data": {
      "text/html": [
       "<div>\n",
       "<style scoped>\n",
       "    .dataframe tbody tr th:only-of-type {\n",
       "        vertical-align: middle;\n",
       "    }\n",
       "\n",
       "    .dataframe tbody tr th {\n",
       "        vertical-align: top;\n",
       "    }\n",
       "\n",
       "    .dataframe thead th {\n",
       "        text-align: right;\n",
       "    }\n",
       "</style>\n",
       "<table border=\"1\" class=\"dataframe\">\n",
       "  <thead>\n",
       "    <tr style=\"text-align: right;\">\n",
       "      <th></th>\n",
       "      <th>age</th>\n",
       "    </tr>\n",
       "  </thead>\n",
       "  <tbody>\n",
       "    <tr>\n",
       "      <th>701</th>\n",
       "      <td>49.0</td>\n",
       "    </tr>\n",
       "    <tr>\n",
       "      <th>363</th>\n",
       "      <td>67.0</td>\n",
       "    </tr>\n",
       "    <tr>\n",
       "      <th>267</th>\n",
       "      <td>24.0</td>\n",
       "    </tr>\n",
       "    <tr>\n",
       "      <th>90</th>\n",
       "      <td>21.0</td>\n",
       "    </tr>\n",
       "    <tr>\n",
       "      <th>370</th>\n",
       "      <td>25.0</td>\n",
       "    </tr>\n",
       "  </tbody>\n",
       "</table>\n",
       "</div>"
      ],
      "text/plain": [
       "      age\n",
       "701  49.0\n",
       "363  67.0\n",
       "267  24.0\n",
       "90   21.0\n",
       "370  25.0"
      ]
     },
     "execution_count": 12,
     "metadata": {},
     "output_type": "execute_result"
    }
   ],
   "source": [
    "train_y_df.head()"
   ]
  },
  {
   "cell_type": "markdown",
   "id": "679d5e9e",
   "metadata": {},
   "source": [
    "## 3. train/validation split"
   ]
  },
  {
   "cell_type": "markdown",
   "id": "01e446de-512b-43ba-9be0-980d88766012",
   "metadata": {},
   "source": [
    "### The Scikit-learn LinearRegression API does not have model flexibility hyperparameters therefore we will not be tuning hyper parameters in this modeling effort. As a result a validation data set is not required so we will skip the train/validation split step."
   ]
  },
  {
   "cell_type": "markdown",
   "id": "1362509f",
   "metadata": {},
   "source": [
    "## 4. check out the attribute types"
   ]
  },
  {
   "cell_type": "code",
   "execution_count": 13,
   "id": "6fce9c6e",
   "metadata": {},
   "outputs": [
    {
     "data": {
      "text/plain": [
       "pregnant     float64\n",
       "glucose      float64\n",
       "diastolic    float64\n",
       "triceps      float64\n",
       "insulin      float64\n",
       "bmi          float64\n",
       "diabetes     float64\n",
       "dtype: object"
      ]
     },
     "execution_count": 13,
     "metadata": {},
     "output_type": "execute_result"
    }
   ],
   "source": [
    "train_cap_x_df.dtypes"
   ]
  },
  {
   "cell_type": "markdown",
   "id": "82a18266",
   "metadata": {},
   "source": [
    "## 5. identify attributes with  missingness above threshold"
   ]
  },
  {
   "cell_type": "code",
   "execution_count": 14,
   "id": "a3b5acac",
   "metadata": {},
   "outputs": [
    {
     "name": "stdout",
     "output_type": "stream",
     "text": [
      "pregnant missingness = 0.029605263157894735\n",
      "glucose missingness = 0.008223684210526315\n",
      "diastolic missingness = 0.21217105263157895\n",
      "triceps missingness = 0.11019736842105263\n",
      "insulin missingness = 0.023026315789473683\n",
      "bmi missingness = 0.05098684210526316\n",
      "diabetes missingness = 0.013157894736842105\n",
      "\n",
      "missingness_drop_list:\n",
      "['diastolic']\n"
     ]
    }
   ],
   "source": [
    "missingness_drop_list = []\n",
    "for attr in train_cap_x_df.columns:\n",
    "    attr_missingness = train_cap_x_df[attr].isna().sum() / train_cap_x_df.shape[0]\n",
    "    print(f'{attr} missingness = {attr_missingness}')\n",
    "    if attr_missingness >= missingness_threshold:\n",
    "        missingness_drop_list.append(attr)\n",
    "\n",
    "print(f'\\nmissingness_drop_list:\\n{missingness_drop_list}')"
   ]
  },
  {
   "cell_type": "markdown",
   "id": "8431b9e1-f0bd-40ef-90d4-0b41eadb0af3",
   "metadata": {},
   "source": [
    "## 6. identify non machine learning attributes"
   ]
  },
  {
   "cell_type": "markdown",
   "id": "46653fe2",
   "metadata": {},
   "source": [
    "### these are attributes that are not meaningful to machine learning - examples include observation identification attributes, etc. - enter these into the non_ml_attr_list manually. note that this step is typically informed from an eda conducted in a separate notebook."
   ]
  },
  {
   "cell_type": "code",
   "execution_count": 15,
   "id": "ca6bdb71",
   "metadata": {},
   "outputs": [
    {
     "data": {
      "text/plain": [
       "Index(['pregnant', 'glucose', 'diastolic', 'triceps', 'insulin', 'bmi',\n",
       "       'diabetes'],\n",
       "      dtype='object')"
      ]
     },
     "execution_count": 15,
     "metadata": {},
     "output_type": "execute_result"
    }
   ],
   "source": [
    "train_cap_x_df.columns"
   ]
  },
  {
   "cell_type": "code",
   "execution_count": 16,
   "id": "4bed27bb",
   "metadata": {},
   "outputs": [],
   "source": [
    "non_ml_attr_list = []  # no non-machine learning attributes were identified"
   ]
  },
  {
   "cell_type": "markdown",
   "id": "1eeaacc1-d918-453b-bf0a-d5ed17481c46",
   "metadata": {},
   "source": [
    "## 7. identify attributes to exclude from machine learning"
   ]
  },
  {
   "cell_type": "markdown",
   "id": "8cf0cc41",
   "metadata": {},
   "source": [
    "### identify attributes that were candidates for machine learning but you have chosen to eliminate from machine learning - elimination can be due to low variance, etc. - enter these into the ml_attr_drop_list manually. note that this step is typically informed from an eda conducted in a separate notebook."
   ]
  },
  {
   "cell_type": "code",
   "execution_count": 17,
   "id": "4895f1fc",
   "metadata": {},
   "outputs": [
    {
     "data": {
      "text/plain": [
       "Index(['pregnant', 'glucose', 'diastolic', 'triceps', 'insulin', 'bmi',\n",
       "       'diabetes'],\n",
       "      dtype='object')"
      ]
     },
     "execution_count": 17,
     "metadata": {},
     "output_type": "execute_result"
    }
   ],
   "source": [
    "train_cap_x_df.columns"
   ]
  },
  {
   "cell_type": "code",
   "execution_count": 18,
   "id": "baeb164a",
   "metadata": {},
   "outputs": [],
   "source": [
    "ml_attr_drop_list = []  # none were identified"
   ]
  },
  {
   "cell_type": "markdown",
   "id": "f08cc3c8",
   "metadata": {},
   "source": [
    "## 8. establish machine learning attribute configuration"
   ]
  },
  {
   "cell_type": "markdown",
   "id": "87cd6586-7ef0-4c19-a657-3921e54a37e8",
   "metadata": {},
   "source": [
    "### Note that you should not modify the loaded data frame. This confioguration will be used in a Scikit-learn pipeline to control which attributes are used in the machine learning process."
   ]
  },
  {
   "cell_type": "code",
   "execution_count": 19,
   "id": "92d2efee-cb94-46f6-8b8c-3f8f32c96e63",
   "metadata": {},
   "outputs": [
    {
     "data": {
      "text/plain": [
       "['diastolic']"
      ]
     },
     "execution_count": 19,
     "metadata": {},
     "output_type": "execute_result"
    }
   ],
   "source": [
    "ml_ignore_list = missingness_drop_list + non_ml_attr_list + ml_attr_drop_list\n",
    "ml_ignore_list"
   ]
  },
  {
   "cell_type": "code",
   "execution_count": 20,
   "id": "ed531d55-92f0-4012-8e2c-5c128489aab3",
   "metadata": {},
   "outputs": [
    {
     "data": {
      "text/plain": [
       "pregnant     float64\n",
       "glucose      float64\n",
       "diastolic    float64\n",
       "triceps      float64\n",
       "insulin      float64\n",
       "bmi          float64\n",
       "diabetes     float64\n",
       "dtype: object"
      ]
     },
     "execution_count": 20,
     "metadata": {},
     "output_type": "execute_result"
    }
   ],
   "source": [
    "train_cap_x_df.dtypes"
   ]
  },
  {
   "cell_type": "code",
   "execution_count": 21,
   "id": "cb4eabf2",
   "metadata": {},
   "outputs": [
    {
     "name": "stdout",
     "output_type": "stream",
     "text": [
      "ml_ignore_list: ['diastolic']\n",
      "\n",
      "numerical_attr: ['pregnant', 'glucose', 'triceps', 'insulin', 'bmi', 'diabetes']\n",
      "nominal_attr: ['pregnant', 'glucose', 'triceps', 'insulin', 'bmi', 'diabetes']\n",
      "\n",
      "number of machine learning attributes: 6\n",
      "\n",
      "numerical_attr and nominal_attr: ['pregnant', 'glucose', 'triceps', 'insulin', 'bmi', 'diabetes']\n"
     ]
    }
   ],
   "source": [
    "# identify the remaining numerical attributes to be used in machine learning and enter them into the \n",
    "# numerical_attr list below.\n",
    "\n",
    "numerical_attr = ['pregnant', 'glucose', 'triceps', 'insulin', 'bmi', 'diabetes']\n",
    "\n",
    "# identify the remaining nominal attributes to be used in machine learning and enter them into the \n",
    "# nominal_attr list below.\n",
    "\n",
    "nominal_attr = []\n",
    "\n",
    "assert(train_cap_x_df.shape[1] == len(ml_ignore_list) + len(nominal_attr) + len(numerical_attr))  # got them all?\n",
    "\n",
    "print(f'ml_ignore_list: {ml_ignore_list}')\n",
    "print(f'\\nnumerical_attr: {numerical_attr}')\n",
    "print(f'nominal_attr: {numerical_attr}')\n",
    "\n",
    "print(f'\\nnumber of machine learning attributes: {len(numerical_attr) + len(nominal_attr)}')\n",
    "print(f'\\nnumerical_attr and nominal_attr: {numerical_attr + nominal_attr}')"
   ]
  },
  {
   "cell_type": "markdown",
   "id": "43b09f9e-22ae-4065-af86-877d12a3893c",
   "metadata": {},
   "source": [
    "## 9. build a composite estimator"
   ]
  },
  {
   "cell_type": "markdown",
   "id": "ea6ec131",
   "metadata": {},
   "source": [
    "### define the estimators involved in the experiment"
   ]
  },
  {
   "cell_type": "code",
   "execution_count": 22,
   "id": "744b25e8",
   "metadata": {},
   "outputs": [],
   "source": [
    "estimator_names = ['LinearRegression']\n",
    "\n",
    "estimator_list = [\n",
    "    LinearRegression(fit_intercept=True, copy_X=True, n_jobs=None, positive=False)\n",
    "]"
   ]
  },
  {
   "cell_type": "markdown",
   "id": "38b1248b-3585-402f-b704-c281aa4b2085",
   "metadata": {},
   "source": [
    "### build a numerical transformer that will impute missing values and scale the attributes"
   ]
  },
  {
   "cell_type": "code",
   "execution_count": 23,
   "id": "1dc91c47-9525-4789-b583-ff9a7c3d38e3",
   "metadata": {},
   "outputs": [],
   "source": [
    "numerical_transformer = Pipeline(\n",
    "    steps=[(\"imputer\", SimpleImputer()),\n",
    "           (\"scaler\", StandardScaler())]\n",
    ")"
   ]
  },
  {
   "cell_type": "markdown",
   "id": "ba8907b7-f795-48b7-b950-1cc7c67c9de2",
   "metadata": {},
   "source": [
    "### build a preprocessor - note that typically the column transformer will have a pipeline for nominal attributes also. since there are no nomial attributes in this data set we do not need a nominal transformer"
   ]
  },
  {
   "cell_type": "code",
   "execution_count": 24,
   "id": "1477a8df-4292-4c84-ae25-aea0660c334b",
   "metadata": {},
   "outputs": [],
   "source": [
    "preprocessor = ColumnTransformer(\n",
    "        transformers=[\n",
    "            ('numerical', numerical_transformer, numerical_attr),\n",
    "        ]\n",
    "    )"
   ]
  },
  {
   "cell_type": "markdown",
   "id": "bf292cc1-0c95-416b-92be-6ec249bbf9b1",
   "metadata": {},
   "source": [
    "### assemble the preprocessor and the predictor into a composite estimator"
   ]
  },
  {
   "cell_type": "code",
   "execution_count": 25,
   "id": "467fd062-7fe3-4776-a5e7-5bdfd554900b",
   "metadata": {},
   "outputs": [],
   "source": [
    "composite_estimator = Pipeline(steps=[('preprocessor', preprocessor), ('estimator', estimator_list[0])])"
   ]
  },
  {
   "cell_type": "markdown",
   "id": "dee0c13a",
   "metadata": {},
   "source": [
    "## 10. survey (fit and evaluate)  default composite estimators"
   ]
  },
  {
   "cell_type": "markdown",
   "id": "4e06a9a4-68a1-4eaf-9af3-b48820139962",
   "metadata": {},
   "source": [
    "### since we are only working with one estimator our survey is over just one estimator"
   ]
  },
  {
   "cell_type": "markdown",
   "id": "16647fed-ea1b-4031-ad86-b1a9f2ba8648",
   "metadata": {},
   "source": [
    "### fit the composite estimator"
   ]
  },
  {
   "cell_type": "code",
   "execution_count": 26,
   "id": "10b03472-fc2b-4e80-a4b2-9611503d3b7f",
   "metadata": {},
   "outputs": [
    {
     "data": {
      "text/html": [
       "<style>#sk-container-id-1 {\n",
       "  /* Definition of color scheme common for light and dark mode */\n",
       "  --sklearn-color-text: black;\n",
       "  --sklearn-color-line: gray;\n",
       "  /* Definition of color scheme for unfitted estimators */\n",
       "  --sklearn-color-unfitted-level-0: #fff5e6;\n",
       "  --sklearn-color-unfitted-level-1: #f6e4d2;\n",
       "  --sklearn-color-unfitted-level-2: #ffe0b3;\n",
       "  --sklearn-color-unfitted-level-3: chocolate;\n",
       "  /* Definition of color scheme for fitted estimators */\n",
       "  --sklearn-color-fitted-level-0: #f0f8ff;\n",
       "  --sklearn-color-fitted-level-1: #d4ebff;\n",
       "  --sklearn-color-fitted-level-2: #b3dbfd;\n",
       "  --sklearn-color-fitted-level-3: cornflowerblue;\n",
       "\n",
       "  /* Specific color for light theme */\n",
       "  --sklearn-color-text-on-default-background: var(--sg-text-color, var(--theme-code-foreground, var(--jp-content-font-color1, black)));\n",
       "  --sklearn-color-background: var(--sg-background-color, var(--theme-background, var(--jp-layout-color0, white)));\n",
       "  --sklearn-color-border-box: var(--sg-text-color, var(--theme-code-foreground, var(--jp-content-font-color1, black)));\n",
       "  --sklearn-color-icon: #696969;\n",
       "\n",
       "  @media (prefers-color-scheme: dark) {\n",
       "    /* Redefinition of color scheme for dark theme */\n",
       "    --sklearn-color-text-on-default-background: var(--sg-text-color, var(--theme-code-foreground, var(--jp-content-font-color1, white)));\n",
       "    --sklearn-color-background: var(--sg-background-color, var(--theme-background, var(--jp-layout-color0, #111)));\n",
       "    --sklearn-color-border-box: var(--sg-text-color, var(--theme-code-foreground, var(--jp-content-font-color1, white)));\n",
       "    --sklearn-color-icon: #878787;\n",
       "  }\n",
       "}\n",
       "\n",
       "#sk-container-id-1 {\n",
       "  color: var(--sklearn-color-text);\n",
       "}\n",
       "\n",
       "#sk-container-id-1 pre {\n",
       "  padding: 0;\n",
       "}\n",
       "\n",
       "#sk-container-id-1 input.sk-hidden--visually {\n",
       "  border: 0;\n",
       "  clip: rect(1px 1px 1px 1px);\n",
       "  clip: rect(1px, 1px, 1px, 1px);\n",
       "  height: 1px;\n",
       "  margin: -1px;\n",
       "  overflow: hidden;\n",
       "  padding: 0;\n",
       "  position: absolute;\n",
       "  width: 1px;\n",
       "}\n",
       "\n",
       "#sk-container-id-1 div.sk-dashed-wrapped {\n",
       "  border: 1px dashed var(--sklearn-color-line);\n",
       "  margin: 0 0.4em 0.5em 0.4em;\n",
       "  box-sizing: border-box;\n",
       "  padding-bottom: 0.4em;\n",
       "  background-color: var(--sklearn-color-background);\n",
       "}\n",
       "\n",
       "#sk-container-id-1 div.sk-container {\n",
       "  /* jupyter's `normalize.less` sets `[hidden] { display: none; }`\n",
       "     but bootstrap.min.css set `[hidden] { display: none !important; }`\n",
       "     so we also need the `!important` here to be able to override the\n",
       "     default hidden behavior on the sphinx rendered scikit-learn.org.\n",
       "     See: https://github.com/scikit-learn/scikit-learn/issues/21755 */\n",
       "  display: inline-block !important;\n",
       "  position: relative;\n",
       "}\n",
       "\n",
       "#sk-container-id-1 div.sk-text-repr-fallback {\n",
       "  display: none;\n",
       "}\n",
       "\n",
       "div.sk-parallel-item,\n",
       "div.sk-serial,\n",
       "div.sk-item {\n",
       "  /* draw centered vertical line to link estimators */\n",
       "  background-image: linear-gradient(var(--sklearn-color-text-on-default-background), var(--sklearn-color-text-on-default-background));\n",
       "  background-size: 2px 100%;\n",
       "  background-repeat: no-repeat;\n",
       "  background-position: center center;\n",
       "}\n",
       "\n",
       "/* Parallel-specific style estimator block */\n",
       "\n",
       "#sk-container-id-1 div.sk-parallel-item::after {\n",
       "  content: \"\";\n",
       "  width: 100%;\n",
       "  border-bottom: 2px solid var(--sklearn-color-text-on-default-background);\n",
       "  flex-grow: 1;\n",
       "}\n",
       "\n",
       "#sk-container-id-1 div.sk-parallel {\n",
       "  display: flex;\n",
       "  align-items: stretch;\n",
       "  justify-content: center;\n",
       "  background-color: var(--sklearn-color-background);\n",
       "  position: relative;\n",
       "}\n",
       "\n",
       "#sk-container-id-1 div.sk-parallel-item {\n",
       "  display: flex;\n",
       "  flex-direction: column;\n",
       "}\n",
       "\n",
       "#sk-container-id-1 div.sk-parallel-item:first-child::after {\n",
       "  align-self: flex-end;\n",
       "  width: 50%;\n",
       "}\n",
       "\n",
       "#sk-container-id-1 div.sk-parallel-item:last-child::after {\n",
       "  align-self: flex-start;\n",
       "  width: 50%;\n",
       "}\n",
       "\n",
       "#sk-container-id-1 div.sk-parallel-item:only-child::after {\n",
       "  width: 0;\n",
       "}\n",
       "\n",
       "/* Serial-specific style estimator block */\n",
       "\n",
       "#sk-container-id-1 div.sk-serial {\n",
       "  display: flex;\n",
       "  flex-direction: column;\n",
       "  align-items: center;\n",
       "  background-color: var(--sklearn-color-background);\n",
       "  padding-right: 1em;\n",
       "  padding-left: 1em;\n",
       "}\n",
       "\n",
       "\n",
       "/* Toggleable style: style used for estimator/Pipeline/ColumnTransformer box that is\n",
       "clickable and can be expanded/collapsed.\n",
       "- Pipeline and ColumnTransformer use this feature and define the default style\n",
       "- Estimators will overwrite some part of the style using the `sk-estimator` class\n",
       "*/\n",
       "\n",
       "/* Pipeline and ColumnTransformer style (default) */\n",
       "\n",
       "#sk-container-id-1 div.sk-toggleable {\n",
       "  /* Default theme specific background. It is overwritten whether we have a\n",
       "  specific estimator or a Pipeline/ColumnTransformer */\n",
       "  background-color: var(--sklearn-color-background);\n",
       "}\n",
       "\n",
       "/* Toggleable label */\n",
       "#sk-container-id-1 label.sk-toggleable__label {\n",
       "  cursor: pointer;\n",
       "  display: block;\n",
       "  width: 100%;\n",
       "  margin-bottom: 0;\n",
       "  padding: 0.5em;\n",
       "  box-sizing: border-box;\n",
       "  text-align: center;\n",
       "}\n",
       "\n",
       "#sk-container-id-1 label.sk-toggleable__label-arrow:before {\n",
       "  /* Arrow on the left of the label */\n",
       "  content: \"▸\";\n",
       "  float: left;\n",
       "  margin-right: 0.25em;\n",
       "  color: var(--sklearn-color-icon);\n",
       "}\n",
       "\n",
       "#sk-container-id-1 label.sk-toggleable__label-arrow:hover:before {\n",
       "  color: var(--sklearn-color-text);\n",
       "}\n",
       "\n",
       "/* Toggleable content - dropdown */\n",
       "\n",
       "#sk-container-id-1 div.sk-toggleable__content {\n",
       "  max-height: 0;\n",
       "  max-width: 0;\n",
       "  overflow: hidden;\n",
       "  text-align: left;\n",
       "  /* unfitted */\n",
       "  background-color: var(--sklearn-color-unfitted-level-0);\n",
       "}\n",
       "\n",
       "#sk-container-id-1 div.sk-toggleable__content.fitted {\n",
       "  /* fitted */\n",
       "  background-color: var(--sklearn-color-fitted-level-0);\n",
       "}\n",
       "\n",
       "#sk-container-id-1 div.sk-toggleable__content pre {\n",
       "  margin: 0.2em;\n",
       "  border-radius: 0.25em;\n",
       "  color: var(--sklearn-color-text);\n",
       "  /* unfitted */\n",
       "  background-color: var(--sklearn-color-unfitted-level-0);\n",
       "}\n",
       "\n",
       "#sk-container-id-1 div.sk-toggleable__content.fitted pre {\n",
       "  /* unfitted */\n",
       "  background-color: var(--sklearn-color-fitted-level-0);\n",
       "}\n",
       "\n",
       "#sk-container-id-1 input.sk-toggleable__control:checked~div.sk-toggleable__content {\n",
       "  /* Expand drop-down */\n",
       "  max-height: 200px;\n",
       "  max-width: 100%;\n",
       "  overflow: auto;\n",
       "}\n",
       "\n",
       "#sk-container-id-1 input.sk-toggleable__control:checked~label.sk-toggleable__label-arrow:before {\n",
       "  content: \"▾\";\n",
       "}\n",
       "\n",
       "/* Pipeline/ColumnTransformer-specific style */\n",
       "\n",
       "#sk-container-id-1 div.sk-label input.sk-toggleable__control:checked~label.sk-toggleable__label {\n",
       "  color: var(--sklearn-color-text);\n",
       "  background-color: var(--sklearn-color-unfitted-level-2);\n",
       "}\n",
       "\n",
       "#sk-container-id-1 div.sk-label.fitted input.sk-toggleable__control:checked~label.sk-toggleable__label {\n",
       "  background-color: var(--sklearn-color-fitted-level-2);\n",
       "}\n",
       "\n",
       "/* Estimator-specific style */\n",
       "\n",
       "/* Colorize estimator box */\n",
       "#sk-container-id-1 div.sk-estimator input.sk-toggleable__control:checked~label.sk-toggleable__label {\n",
       "  /* unfitted */\n",
       "  background-color: var(--sklearn-color-unfitted-level-2);\n",
       "}\n",
       "\n",
       "#sk-container-id-1 div.sk-estimator.fitted input.sk-toggleable__control:checked~label.sk-toggleable__label {\n",
       "  /* fitted */\n",
       "  background-color: var(--sklearn-color-fitted-level-2);\n",
       "}\n",
       "\n",
       "#sk-container-id-1 div.sk-label label.sk-toggleable__label,\n",
       "#sk-container-id-1 div.sk-label label {\n",
       "  /* The background is the default theme color */\n",
       "  color: var(--sklearn-color-text-on-default-background);\n",
       "}\n",
       "\n",
       "/* On hover, darken the color of the background */\n",
       "#sk-container-id-1 div.sk-label:hover label.sk-toggleable__label {\n",
       "  color: var(--sklearn-color-text);\n",
       "  background-color: var(--sklearn-color-unfitted-level-2);\n",
       "}\n",
       "\n",
       "/* Label box, darken color on hover, fitted */\n",
       "#sk-container-id-1 div.sk-label.fitted:hover label.sk-toggleable__label.fitted {\n",
       "  color: var(--sklearn-color-text);\n",
       "  background-color: var(--sklearn-color-fitted-level-2);\n",
       "}\n",
       "\n",
       "/* Estimator label */\n",
       "\n",
       "#sk-container-id-1 div.sk-label label {\n",
       "  font-family: monospace;\n",
       "  font-weight: bold;\n",
       "  display: inline-block;\n",
       "  line-height: 1.2em;\n",
       "}\n",
       "\n",
       "#sk-container-id-1 div.sk-label-container {\n",
       "  text-align: center;\n",
       "}\n",
       "\n",
       "/* Estimator-specific */\n",
       "#sk-container-id-1 div.sk-estimator {\n",
       "  font-family: monospace;\n",
       "  border: 1px dotted var(--sklearn-color-border-box);\n",
       "  border-radius: 0.25em;\n",
       "  box-sizing: border-box;\n",
       "  margin-bottom: 0.5em;\n",
       "  /* unfitted */\n",
       "  background-color: var(--sklearn-color-unfitted-level-0);\n",
       "}\n",
       "\n",
       "#sk-container-id-1 div.sk-estimator.fitted {\n",
       "  /* fitted */\n",
       "  background-color: var(--sklearn-color-fitted-level-0);\n",
       "}\n",
       "\n",
       "/* on hover */\n",
       "#sk-container-id-1 div.sk-estimator:hover {\n",
       "  /* unfitted */\n",
       "  background-color: var(--sklearn-color-unfitted-level-2);\n",
       "}\n",
       "\n",
       "#sk-container-id-1 div.sk-estimator.fitted:hover {\n",
       "  /* fitted */\n",
       "  background-color: var(--sklearn-color-fitted-level-2);\n",
       "}\n",
       "\n",
       "/* Specification for estimator info (e.g. \"i\" and \"?\") */\n",
       "\n",
       "/* Common style for \"i\" and \"?\" */\n",
       "\n",
       ".sk-estimator-doc-link,\n",
       "a:link.sk-estimator-doc-link,\n",
       "a:visited.sk-estimator-doc-link {\n",
       "  float: right;\n",
       "  font-size: smaller;\n",
       "  line-height: 1em;\n",
       "  font-family: monospace;\n",
       "  background-color: var(--sklearn-color-background);\n",
       "  border-radius: 1em;\n",
       "  height: 1em;\n",
       "  width: 1em;\n",
       "  text-decoration: none !important;\n",
       "  margin-left: 1ex;\n",
       "  /* unfitted */\n",
       "  border: var(--sklearn-color-unfitted-level-1) 1pt solid;\n",
       "  color: var(--sklearn-color-unfitted-level-1);\n",
       "}\n",
       "\n",
       ".sk-estimator-doc-link.fitted,\n",
       "a:link.sk-estimator-doc-link.fitted,\n",
       "a:visited.sk-estimator-doc-link.fitted {\n",
       "  /* fitted */\n",
       "  border: var(--sklearn-color-fitted-level-1) 1pt solid;\n",
       "  color: var(--sklearn-color-fitted-level-1);\n",
       "}\n",
       "\n",
       "/* On hover */\n",
       "div.sk-estimator:hover .sk-estimator-doc-link:hover,\n",
       ".sk-estimator-doc-link:hover,\n",
       "div.sk-label-container:hover .sk-estimator-doc-link:hover,\n",
       ".sk-estimator-doc-link:hover {\n",
       "  /* unfitted */\n",
       "  background-color: var(--sklearn-color-unfitted-level-3);\n",
       "  color: var(--sklearn-color-background);\n",
       "  text-decoration: none;\n",
       "}\n",
       "\n",
       "div.sk-estimator.fitted:hover .sk-estimator-doc-link.fitted:hover,\n",
       ".sk-estimator-doc-link.fitted:hover,\n",
       "div.sk-label-container:hover .sk-estimator-doc-link.fitted:hover,\n",
       ".sk-estimator-doc-link.fitted:hover {\n",
       "  /* fitted */\n",
       "  background-color: var(--sklearn-color-fitted-level-3);\n",
       "  color: var(--sklearn-color-background);\n",
       "  text-decoration: none;\n",
       "}\n",
       "\n",
       "/* Span, style for the box shown on hovering the info icon */\n",
       ".sk-estimator-doc-link span {\n",
       "  display: none;\n",
       "  z-index: 9999;\n",
       "  position: relative;\n",
       "  font-weight: normal;\n",
       "  right: .2ex;\n",
       "  padding: .5ex;\n",
       "  margin: .5ex;\n",
       "  width: min-content;\n",
       "  min-width: 20ex;\n",
       "  max-width: 50ex;\n",
       "  color: var(--sklearn-color-text);\n",
       "  box-shadow: 2pt 2pt 4pt #999;\n",
       "  /* unfitted */\n",
       "  background: var(--sklearn-color-unfitted-level-0);\n",
       "  border: .5pt solid var(--sklearn-color-unfitted-level-3);\n",
       "}\n",
       "\n",
       ".sk-estimator-doc-link.fitted span {\n",
       "  /* fitted */\n",
       "  background: var(--sklearn-color-fitted-level-0);\n",
       "  border: var(--sklearn-color-fitted-level-3);\n",
       "}\n",
       "\n",
       ".sk-estimator-doc-link:hover span {\n",
       "  display: block;\n",
       "}\n",
       "\n",
       "/* \"?\"-specific style due to the `<a>` HTML tag */\n",
       "\n",
       "#sk-container-id-1 a.estimator_doc_link {\n",
       "  float: right;\n",
       "  font-size: 1rem;\n",
       "  line-height: 1em;\n",
       "  font-family: monospace;\n",
       "  background-color: var(--sklearn-color-background);\n",
       "  border-radius: 1rem;\n",
       "  height: 1rem;\n",
       "  width: 1rem;\n",
       "  text-decoration: none;\n",
       "  /* unfitted */\n",
       "  color: var(--sklearn-color-unfitted-level-1);\n",
       "  border: var(--sklearn-color-unfitted-level-1) 1pt solid;\n",
       "}\n",
       "\n",
       "#sk-container-id-1 a.estimator_doc_link.fitted {\n",
       "  /* fitted */\n",
       "  border: var(--sklearn-color-fitted-level-1) 1pt solid;\n",
       "  color: var(--sklearn-color-fitted-level-1);\n",
       "}\n",
       "\n",
       "/* On hover */\n",
       "#sk-container-id-1 a.estimator_doc_link:hover {\n",
       "  /* unfitted */\n",
       "  background-color: var(--sklearn-color-unfitted-level-3);\n",
       "  color: var(--sklearn-color-background);\n",
       "  text-decoration: none;\n",
       "}\n",
       "\n",
       "#sk-container-id-1 a.estimator_doc_link.fitted:hover {\n",
       "  /* fitted */\n",
       "  background-color: var(--sklearn-color-fitted-level-3);\n",
       "}\n",
       "</style><div id=\"sk-container-id-1\" class=\"sk-top-container\"><div class=\"sk-text-repr-fallback\"><pre>Pipeline(steps=[(&#x27;preprocessor&#x27;,\n",
       "                 ColumnTransformer(transformers=[(&#x27;numerical&#x27;,\n",
       "                                                  Pipeline(steps=[(&#x27;imputer&#x27;,\n",
       "                                                                   SimpleImputer()),\n",
       "                                                                  (&#x27;scaler&#x27;,\n",
       "                                                                   StandardScaler())]),\n",
       "                                                  [&#x27;pregnant&#x27;, &#x27;glucose&#x27;,\n",
       "                                                   &#x27;triceps&#x27;, &#x27;insulin&#x27;, &#x27;bmi&#x27;,\n",
       "                                                   &#x27;diabetes&#x27;])])),\n",
       "                (&#x27;estimator&#x27;, LinearRegression())])</pre><b>In a Jupyter environment, please rerun this cell to show the HTML representation or trust the notebook. <br />On GitHub, the HTML representation is unable to render, please try loading this page with nbviewer.org.</b></div><div class=\"sk-container\" hidden><div class=\"sk-item sk-dashed-wrapped\"><div class=\"sk-label-container\"><div class=\"sk-label fitted sk-toggleable\"><input class=\"sk-toggleable__control sk-hidden--visually\" id=\"sk-estimator-id-1\" type=\"checkbox\" ><label for=\"sk-estimator-id-1\" class=\"sk-toggleable__label fitted sk-toggleable__label-arrow fitted\">&nbsp;&nbsp;Pipeline<a class=\"sk-estimator-doc-link fitted\" rel=\"noreferrer\" target=\"_blank\" href=\"https://scikit-learn.org/1.5/modules/generated/sklearn.pipeline.Pipeline.html\">?<span>Documentation for Pipeline</span></a><span class=\"sk-estimator-doc-link fitted\">i<span>Fitted</span></span></label><div class=\"sk-toggleable__content fitted\"><pre>Pipeline(steps=[(&#x27;preprocessor&#x27;,\n",
       "                 ColumnTransformer(transformers=[(&#x27;numerical&#x27;,\n",
       "                                                  Pipeline(steps=[(&#x27;imputer&#x27;,\n",
       "                                                                   SimpleImputer()),\n",
       "                                                                  (&#x27;scaler&#x27;,\n",
       "                                                                   StandardScaler())]),\n",
       "                                                  [&#x27;pregnant&#x27;, &#x27;glucose&#x27;,\n",
       "                                                   &#x27;triceps&#x27;, &#x27;insulin&#x27;, &#x27;bmi&#x27;,\n",
       "                                                   &#x27;diabetes&#x27;])])),\n",
       "                (&#x27;estimator&#x27;, LinearRegression())])</pre></div> </div></div><div class=\"sk-serial\"><div class=\"sk-item sk-dashed-wrapped\"><div class=\"sk-label-container\"><div class=\"sk-label fitted sk-toggleable\"><input class=\"sk-toggleable__control sk-hidden--visually\" id=\"sk-estimator-id-2\" type=\"checkbox\" ><label for=\"sk-estimator-id-2\" class=\"sk-toggleable__label fitted sk-toggleable__label-arrow fitted\">&nbsp;preprocessor: ColumnTransformer<a class=\"sk-estimator-doc-link fitted\" rel=\"noreferrer\" target=\"_blank\" href=\"https://scikit-learn.org/1.5/modules/generated/sklearn.compose.ColumnTransformer.html\">?<span>Documentation for preprocessor: ColumnTransformer</span></a></label><div class=\"sk-toggleable__content fitted\"><pre>ColumnTransformer(transformers=[(&#x27;numerical&#x27;,\n",
       "                                 Pipeline(steps=[(&#x27;imputer&#x27;, SimpleImputer()),\n",
       "                                                 (&#x27;scaler&#x27;, StandardScaler())]),\n",
       "                                 [&#x27;pregnant&#x27;, &#x27;glucose&#x27;, &#x27;triceps&#x27;, &#x27;insulin&#x27;,\n",
       "                                  &#x27;bmi&#x27;, &#x27;diabetes&#x27;])])</pre></div> </div></div><div class=\"sk-parallel\"><div class=\"sk-parallel-item\"><div class=\"sk-item\"><div class=\"sk-label-container\"><div class=\"sk-label fitted sk-toggleable\"><input class=\"sk-toggleable__control sk-hidden--visually\" id=\"sk-estimator-id-3\" type=\"checkbox\" ><label for=\"sk-estimator-id-3\" class=\"sk-toggleable__label fitted sk-toggleable__label-arrow fitted\">numerical</label><div class=\"sk-toggleable__content fitted\"><pre>[&#x27;pregnant&#x27;, &#x27;glucose&#x27;, &#x27;triceps&#x27;, &#x27;insulin&#x27;, &#x27;bmi&#x27;, &#x27;diabetes&#x27;]</pre></div> </div></div><div class=\"sk-serial\"><div class=\"sk-item\"><div class=\"sk-serial\"><div class=\"sk-item\"><div class=\"sk-estimator fitted sk-toggleable\"><input class=\"sk-toggleable__control sk-hidden--visually\" id=\"sk-estimator-id-4\" type=\"checkbox\" ><label for=\"sk-estimator-id-4\" class=\"sk-toggleable__label fitted sk-toggleable__label-arrow fitted\">&nbsp;SimpleImputer<a class=\"sk-estimator-doc-link fitted\" rel=\"noreferrer\" target=\"_blank\" href=\"https://scikit-learn.org/1.5/modules/generated/sklearn.impute.SimpleImputer.html\">?<span>Documentation for SimpleImputer</span></a></label><div class=\"sk-toggleable__content fitted\"><pre>SimpleImputer()</pre></div> </div></div><div class=\"sk-item\"><div class=\"sk-estimator fitted sk-toggleable\"><input class=\"sk-toggleable__control sk-hidden--visually\" id=\"sk-estimator-id-5\" type=\"checkbox\" ><label for=\"sk-estimator-id-5\" class=\"sk-toggleable__label fitted sk-toggleable__label-arrow fitted\">&nbsp;StandardScaler<a class=\"sk-estimator-doc-link fitted\" rel=\"noreferrer\" target=\"_blank\" href=\"https://scikit-learn.org/1.5/modules/generated/sklearn.preprocessing.StandardScaler.html\">?<span>Documentation for StandardScaler</span></a></label><div class=\"sk-toggleable__content fitted\"><pre>StandardScaler()</pre></div> </div></div></div></div></div></div></div></div></div><div class=\"sk-item\"><div class=\"sk-estimator fitted sk-toggleable\"><input class=\"sk-toggleable__control sk-hidden--visually\" id=\"sk-estimator-id-6\" type=\"checkbox\" ><label for=\"sk-estimator-id-6\" class=\"sk-toggleable__label fitted sk-toggleable__label-arrow fitted\">&nbsp;LinearRegression<a class=\"sk-estimator-doc-link fitted\" rel=\"noreferrer\" target=\"_blank\" href=\"https://scikit-learn.org/1.5/modules/generated/sklearn.linear_model.LinearRegression.html\">?<span>Documentation for LinearRegression</span></a></label><div class=\"sk-toggleable__content fitted\"><pre>LinearRegression()</pre></div> </div></div></div></div></div></div>"
      ],
      "text/plain": [
       "Pipeline(steps=[('preprocessor',\n",
       "                 ColumnTransformer(transformers=[('numerical',\n",
       "                                                  Pipeline(steps=[('imputer',\n",
       "                                                                   SimpleImputer()),\n",
       "                                                                  ('scaler',\n",
       "                                                                   StandardScaler())]),\n",
       "                                                  ['pregnant', 'glucose',\n",
       "                                                   'triceps', 'insulin', 'bmi',\n",
       "                                                   'diabetes'])])),\n",
       "                ('estimator', LinearRegression())])"
      ]
     },
     "execution_count": 26,
     "metadata": {},
     "output_type": "execute_result"
    }
   ],
   "source": [
    "composite_estimator.fit(train_cap_x_df, train_y_df.values.ravel())"
   ]
  },
  {
   "cell_type": "markdown",
   "id": "3e414318-328b-4d4e-8172-3cfab8a5f150",
   "metadata": {},
   "source": [
    "### check out the regression coefficients and the intercept"
   ]
  },
  {
   "cell_type": "code",
   "execution_count": 27,
   "id": "abeeac4e-7b87-43bf-ae2a-2be0342c257d",
   "metadata": {},
   "outputs": [
    {
     "data": {
      "text/plain": [
       "array([ 5.82305355,  2.6708124 , -1.29987742, -0.40047377, -0.07438465,\n",
       "        0.36152325])"
      ]
     },
     "execution_count": 27,
     "metadata": {},
     "output_type": "execute_result"
    }
   ],
   "source": [
    "# what are the estimated coefficients for the linear regression problem\n",
    "\n",
    "composite_estimator[1].coef_"
   ]
  },
  {
   "cell_type": "code",
   "execution_count": 28,
   "id": "9e7f093d-f69e-48a8-bec2-8c5aa7c5e0d7",
   "metadata": {},
   "outputs": [
    {
     "data": {
      "text/plain": [
       "33.338815789473685"
      ]
     },
     "execution_count": 28,
     "metadata": {},
     "output_type": "execute_result"
    }
   ],
   "source": [
    "# what is the intercept of the linear regression problem\n",
    "\n",
    "composite_estimator[1].intercept_"
   ]
  },
  {
   "cell_type": "code",
   "execution_count": 29,
   "id": "a08a9a4e-0d9a-4d48-aa35-39ac59888836",
   "metadata": {},
   "outputs": [
    {
     "data": {
      "text/plain": [
       "array(['numerical__pregnant', 'numerical__glucose', 'numerical__triceps',\n",
       "       'numerical__insulin', 'numerical__bmi', 'numerical__diabetes'],\n",
       "      dtype=object)"
      ]
     },
     "execution_count": 29,
     "metadata": {},
     "output_type": "execute_result"
    }
   ],
   "source": [
    "# access the attribute names going into the estimator step of the pipeline\n",
    "\n",
    "composite_estimator[0].get_feature_names_out()"
   ]
  },
  {
   "cell_type": "code",
   "execution_count": 30,
   "id": "eaaeb16f-4f0a-4403-b223-8418eef6b5f8",
   "metadata": {},
   "outputs": [
    {
     "data": {
      "text/plain": [
       "{'intercept': 33.338815789473685,\n",
       " 'pregnant': 5.823053550360502,\n",
       " 'glucose': 2.6708124021311472,\n",
       " 'triceps': -1.299877416444645,\n",
       " 'insulin': -0.4004737672266158,\n",
       " 'bmi': -0.07438464926520721,\n",
       " 'diabetes': 0.3615232466878715}"
      ]
     },
     "execution_count": 30,
     "metadata": {},
     "output_type": "execute_result"
    }
   ],
   "source": [
    "# make a dictionary that has the attribute names as keys and the corresponding estimated coefficients for the linear regression problem\n",
    "# as values\n",
    "\n",
    "names = ['intercept'] + [attr_name.split('_')[2] for attr_name in composite_estimator[0].get_feature_names_out()]\n",
    "coef_values = [composite_estimator[1].intercept_] + list(composite_estimator[1].coef_)\n",
    "lin_reg_parameters_dict = dict(zip(names, coef_values))\n",
    "\n",
    "lin_reg_parameters_dict"
   ]
  },
  {
   "cell_type": "markdown",
   "id": "a079c5e3-e802-4a44-9f98-2656e3fc151c",
   "metadata": {},
   "source": [
    "### Note that these are equal to those found using the stasmodel OLS API. "
   ]
  },
  {
   "cell_type": "markdown",
   "id": "1886c0c2-649d-4e04-9bd2-f72c799edc02",
   "metadata": {},
   "source": [
    "### evaluate the training error using root mean squared error (rmse)"
   ]
  },
  {
   "cell_type": "code",
   "execution_count": 31,
   "id": "f15fa579-ddf3-49cb-8a6a-f01e28689444",
   "metadata": {},
   "outputs": [
    {
     "name": "stdout",
     "output_type": "stream",
     "text": [
      "train_rmse: 9.573609937595291\n",
      "relative train_rmse: 0.2871610676890941\n"
     ]
    }
   ],
   "source": [
    "train_rmse = root_mean_squared_error(train_y_df, composite_estimator.predict(train_cap_x_df))\n",
    "print(f'train_rmse: {train_rmse}')\n",
    "\n",
    "print(f'relative train_rmse: {train_rmse/np.mean(train_y_df)}')"
   ]
  },
  {
   "cell_type": "markdown",
   "id": "fa7eeff0-d59b-4728-a2c4-b57719b8028a",
   "metadata": {},
   "source": [
    "### evaluate the model using rmse and n-fold cross validation on the train set"
   ]
  },
  {
   "cell_type": "markdown",
   "id": "5a45a38c-12df-4fbe-83ef-789f95be6ade",
   "metadata": {},
   "source": [
    "The following code randomly splits the training set into 5 nonoverlapping subsets called folds, then it trains and evaluates the linear regression model 5 times, picking a different fold for evaluation every time and using the other 4 folds for training. The result is an array containing the 5 evaluation scores."
   ]
  },
  {
   "cell_type": "code",
   "execution_count": 32,
   "id": "c9ef035a-4d3e-484c-b600-5f7b7994b5ce",
   "metadata": {},
   "outputs": [
    {
     "data": {
      "text/plain": [
       "array([ 9.4825901 ,  9.93474717,  9.05794328, 10.71342621,  9.3684998 ])"
      ]
     },
     "execution_count": 32,
     "metadata": {},
     "output_type": "execute_result"
    }
   ],
   "source": [
    "cv_rmse = cross_val_score(\n",
    "    estimator=composite_estimator, \n",
    "    X=train_cap_x_df,\n",
    "    y=train_y_df.values.ravel(),\n",
    "    groups=None, \n",
    "    scoring='neg_root_mean_squared_error', \n",
    "    cv=5, \n",
    "    n_jobs=None, \n",
    "    verbose=0, \n",
    "    fit_params=None, \n",
    "    params=None, \n",
    "    pre_dispatch='2*n_jobs', \n",
    "    error_score=np.nan\n",
    ")\n",
    "cv_rmse = -1 * cv_rmse\n",
    "cv_rmse"
   ]
  },
  {
   "cell_type": "code",
   "execution_count": 33,
   "id": "27678393-4daf-4dbb-b1b3-c55194b25a60",
   "metadata": {},
   "outputs": [
    {
     "name": "stdout",
     "output_type": "stream",
     "text": [
      "estimated model rmse: 9.711441312338717\n",
      "precision of estimated model rmse: 0.6424330064450535\n"
     ]
    }
   ],
   "source": [
    "print(f'estimated model rmse: {np.mean(cv_rmse)}')\n",
    "print(f'precision of estimated model rmse: {np.std(cv_rmse, ddof=1)}')"
   ]
  },
  {
   "cell_type": "markdown",
   "id": "806c51ef-8471-4dd8-be49-31734b1b6f38",
   "metadata": {},
   "source": [
    "### plot predicted vs actual"
   ]
  },
  {
   "cell_type": "code",
   "execution_count": 34,
   "id": "93c5e7ca-d877-406c-a099-2fbe79a32cf2",
   "metadata": {},
   "outputs": [
    {
     "data": {
      "image/png": "[encoded data removed]",
      "text/plain": [
       "<Figure size 640x480 with 1 Axes>"
      ]
     },
     "metadata": {},
     "output_type": "display_data"
    }
   ],
   "source": [
    "plot_pred_vs_actual(composite_estimator.predict(train_cap_x_df), train_y_df, 'train')"
   ]
  },
  {
   "cell_type": "markdown",
   "id": "67220555-becc-4a4d-8c4a-d0ca550b850d",
   "metadata": {},
   "source": [
    "## 11. short list default composite estimators"
   ]
  },
  {
   "cell_type": "markdown",
   "id": "7801faaf-b56e-41de-af5d-dd24c1d8c173",
   "metadata": {},
   "source": [
    "### Note that since we are only working with one estimator there is no reason to short list"
   ]
  },
  {
   "cell_type": "markdown",
   "id": "84616cac-25e7-46e9-9cf0-ce815c9b3c18",
   "metadata": {},
   "source": [
    "## 12. tune hyperparameters of short-listed composite estimators"
   ]
  },
  {
   "cell_type": "markdown",
   "id": "a987b431-943c-4020-b70b-71d604158ca6",
   "metadata": {},
   "source": [
    "### Note that the statsmodels OLS API does not have any model flexibility hyper parameters so we cannot tune the estimator."
   ]
  },
  {
   "cell_type": "markdown",
   "id": "86c460d1-87d0-42a5-84fb-bc887b5358da",
   "metadata": {},
   "source": [
    "## 13. evaluate tuned composite estimators"
   ]
  },
  {
   "cell_type": "markdown",
   "id": "104728b1-1c86-4f56-8c09-ea63fe09ff06",
   "metadata": {},
   "source": [
    "### Note that the statsmodels OLS API does not have any model flexibility hyper parameters so we cannot evaluate a tuned estimator."
   ]
  },
  {
   "cell_type": "markdown",
   "id": "55334204-5874-4a5e-917b-cd5d88efcd9c",
   "metadata": {},
   "source": [
    "## 14. check for false discoveries"
   ]
  },
  {
   "cell_type": "markdown",
   "id": "2f7959c6-d4ab-4473-941d-99553cd1375b",
   "metadata": {},
   "source": [
    "### This is an advanced topic and will be covered latter in the course."
   ]
  },
  {
   "cell_type": "markdown",
   "id": "8ac7930e-864c-4f7e-9d49-12ad97be5c2e",
   "metadata": {},
   "source": [
    "## 15. select a model"
   ]
  },
  {
   "cell_type": "markdown",
   "id": "9104eb01-0bdc-4955-869d-0e864d223672",
   "metadata": {},
   "source": [
    "### Model selection is trivial as we only have one model in this modeling effort."
   ]
  },
  {
   "cell_type": "markdown",
   "id": "8b38bf02-871e-4ac1-a201-45650fd934ce",
   "metadata": {},
   "source": [
    "## 16. evaluate generalization -  make predictions on the test set with the model"
   ]
  },
  {
   "cell_type": "markdown",
   "id": "3d3f209d-d637-4a52-a7db-5ae6df562927",
   "metadata": {},
   "source": [
    "### load the test set"
   ]
  },
  {
   "cell_type": "code",
   "execution_count": 35,
   "id": "51095346-baa2-4386-9aa3-e84377f7ff3a",
   "metadata": {},
   "outputs": [
    {
     "data": {
      "text/html": [
       "<div>\n",
       "<style scoped>\n",
       "    .dataframe tbody tr th:only-of-type {\n",
       "        vertical-align: middle;\n",
       "    }\n",
       "\n",
       "    .dataframe tbody tr th {\n",
       "        vertical-align: top;\n",
       "    }\n",
       "\n",
       "    .dataframe thead th {\n",
       "        text-align: right;\n",
       "    }\n",
       "</style>\n",
       "<table border=\"1\" class=\"dataframe\">\n",
       "  <thead>\n",
       "    <tr style=\"text-align: right;\">\n",
       "      <th></th>\n",
       "      <th>pregnant</th>\n",
       "      <th>glucose</th>\n",
       "      <th>diastolic</th>\n",
       "      <th>triceps</th>\n",
       "      <th>insulin</th>\n",
       "      <th>bmi</th>\n",
       "      <th>diabetes</th>\n",
       "      <th>age</th>\n",
       "    </tr>\n",
       "  </thead>\n",
       "  <tbody>\n",
       "    <tr>\n",
       "      <th>397</th>\n",
       "      <td>0.0</td>\n",
       "      <td>131.0</td>\n",
       "      <td>66.0</td>\n",
       "      <td>40.0</td>\n",
       "      <td>0.0</td>\n",
       "      <td>34.3</td>\n",
       "      <td>0.196</td>\n",
       "      <td>22.0</td>\n",
       "    </tr>\n",
       "    <tr>\n",
       "      <th>325</th>\n",
       "      <td>1.0</td>\n",
       "      <td>157.0</td>\n",
       "      <td>NaN</td>\n",
       "      <td>21.0</td>\n",
       "      <td>168.0</td>\n",
       "      <td>25.6</td>\n",
       "      <td>0.123</td>\n",
       "      <td>24.0</td>\n",
       "    </tr>\n",
       "    <tr>\n",
       "      <th>97</th>\n",
       "      <td>1.0</td>\n",
       "      <td>71.0</td>\n",
       "      <td>48.0</td>\n",
       "      <td>18.0</td>\n",
       "      <td>76.0</td>\n",
       "      <td>20.4</td>\n",
       "      <td>0.323</td>\n",
       "      <td>22.0</td>\n",
       "    </tr>\n",
       "    <tr>\n",
       "      <th>502</th>\n",
       "      <td>6.0</td>\n",
       "      <td>0.0</td>\n",
       "      <td>68.0</td>\n",
       "      <td>41.0</td>\n",
       "      <td>0.0</td>\n",
       "      <td>39.0</td>\n",
       "      <td>0.727</td>\n",
       "      <td>41.0</td>\n",
       "    </tr>\n",
       "    <tr>\n",
       "      <th>109</th>\n",
       "      <td>0.0</td>\n",
       "      <td>95.0</td>\n",
       "      <td>NaN</td>\n",
       "      <td>25.0</td>\n",
       "      <td>36.0</td>\n",
       "      <td>37.4</td>\n",
       "      <td>0.247</td>\n",
       "      <td>24.0</td>\n",
       "    </tr>\n",
       "  </tbody>\n",
       "</table>\n",
       "</div>"
      ],
      "text/plain": [
       "     pregnant  glucose  diastolic  triceps  insulin   bmi  diabetes   age\n",
       "397       0.0    131.0       66.0     40.0      0.0  34.3     0.196  22.0\n",
       "325       1.0    157.0        NaN     21.0    168.0  25.6     0.123  24.0\n",
       "97        1.0     71.0       48.0     18.0     76.0  20.4     0.323  22.0\n",
       "502       6.0      0.0       68.0     41.0      0.0  39.0     0.727  41.0\n",
       "109       0.0     95.0        NaN     25.0     36.0  37.4     0.247  24.0"
      ]
     },
     "execution_count": 35,
     "metadata": {},
     "output_type": "execute_result"
    }
   ],
   "source": [
    "test_df = pd.read_csv('test_df.csv', index_col='index')\n",
    "test_df.index.name = None\n",
    "test_df.head()"
   ]
  },
  {
   "cell_type": "markdown",
   "id": "706080e4-ebc6-4fcd-809e-a68e221de172",
   "metadata": {},
   "source": [
    "### break test_df apart into the design matrix (test_cap_x_df) and the target vector (test_y_df) then delete test_df"
   ]
  },
  {
   "cell_type": "code",
   "execution_count": 36,
   "id": "9e91c2ed-9092-4974-b824-15b89eac7e0d",
   "metadata": {},
   "outputs": [
    {
     "data": {
      "text/html": [
       "<div>\n",
       "<style scoped>\n",
       "    .dataframe tbody tr th:only-of-type {\n",
       "        vertical-align: middle;\n",
       "    }\n",
       "\n",
       "    .dataframe tbody tr th {\n",
       "        vertical-align: top;\n",
       "    }\n",
       "\n",
       "    .dataframe thead th {\n",
       "        text-align: right;\n",
       "    }\n",
       "</style>\n",
       "<table border=\"1\" class=\"dataframe\">\n",
       "  <thead>\n",
       "    <tr style=\"text-align: right;\">\n",
       "      <th></th>\n",
       "      <th>pregnant</th>\n",
       "      <th>glucose</th>\n",
       "      <th>diastolic</th>\n",
       "      <th>triceps</th>\n",
       "      <th>insulin</th>\n",
       "      <th>bmi</th>\n",
       "      <th>diabetes</th>\n",
       "    </tr>\n",
       "  </thead>\n",
       "  <tbody>\n",
       "    <tr>\n",
       "      <th>397</th>\n",
       "      <td>0.0</td>\n",
       "      <td>131.0</td>\n",
       "      <td>66.0</td>\n",
       "      <td>40.0</td>\n",
       "      <td>0.0</td>\n",
       "      <td>34.3</td>\n",
       "      <td>0.196</td>\n",
       "    </tr>\n",
       "    <tr>\n",
       "      <th>325</th>\n",
       "      <td>1.0</td>\n",
       "      <td>157.0</td>\n",
       "      <td>NaN</td>\n",
       "      <td>21.0</td>\n",
       "      <td>168.0</td>\n",
       "      <td>25.6</td>\n",
       "      <td>0.123</td>\n",
       "    </tr>\n",
       "    <tr>\n",
       "      <th>97</th>\n",
       "      <td>1.0</td>\n",
       "      <td>71.0</td>\n",
       "      <td>48.0</td>\n",
       "      <td>18.0</td>\n",
       "      <td>76.0</td>\n",
       "      <td>20.4</td>\n",
       "      <td>0.323</td>\n",
       "    </tr>\n",
       "    <tr>\n",
       "      <th>502</th>\n",
       "      <td>6.0</td>\n",
       "      <td>0.0</td>\n",
       "      <td>68.0</td>\n",
       "      <td>41.0</td>\n",
       "      <td>0.0</td>\n",
       "      <td>39.0</td>\n",
       "      <td>0.727</td>\n",
       "    </tr>\n",
       "    <tr>\n",
       "      <th>109</th>\n",
       "      <td>0.0</td>\n",
       "      <td>95.0</td>\n",
       "      <td>NaN</td>\n",
       "      <td>25.0</td>\n",
       "      <td>36.0</td>\n",
       "      <td>37.4</td>\n",
       "      <td>0.247</td>\n",
       "    </tr>\n",
       "  </tbody>\n",
       "</table>\n",
       "</div>"
      ],
      "text/plain": [
       "     pregnant  glucose  diastolic  triceps  insulin   bmi  diabetes\n",
       "397       0.0    131.0       66.0     40.0      0.0  34.3     0.196\n",
       "325       1.0    157.0        NaN     21.0    168.0  25.6     0.123\n",
       "97        1.0     71.0       48.0     18.0     76.0  20.4     0.323\n",
       "502       6.0      0.0       68.0     41.0      0.0  39.0     0.727\n",
       "109       0.0     95.0        NaN     25.0     36.0  37.4     0.247"
      ]
     },
     "execution_count": 36,
     "metadata": {},
     "output_type": "execute_result"
    }
   ],
   "source": [
    "test_cap_x_df = test_df.iloc[:, :-1]\n",
    "test_cap_x_df.head()"
   ]
  },
  {
   "cell_type": "code",
   "execution_count": 37,
   "id": "a6f2dca2-2f35-4a40-b79f-dd199ed75df0",
   "metadata": {},
   "outputs": [
    {
     "data": {
      "text/html": [
       "<div>\n",
       "<style scoped>\n",
       "    .dataframe tbody tr th:only-of-type {\n",
       "        vertical-align: middle;\n",
       "    }\n",
       "\n",
       "    .dataframe tbody tr th {\n",
       "        vertical-align: top;\n",
       "    }\n",
       "\n",
       "    .dataframe thead th {\n",
       "        text-align: right;\n",
       "    }\n",
       "</style>\n",
       "<table border=\"1\" class=\"dataframe\">\n",
       "  <thead>\n",
       "    <tr style=\"text-align: right;\">\n",
       "      <th></th>\n",
       "      <th>age</th>\n",
       "    </tr>\n",
       "  </thead>\n",
       "  <tbody>\n",
       "    <tr>\n",
       "      <th>397</th>\n",
       "      <td>22.0</td>\n",
       "    </tr>\n",
       "    <tr>\n",
       "      <th>325</th>\n",
       "      <td>24.0</td>\n",
       "    </tr>\n",
       "    <tr>\n",
       "      <th>97</th>\n",
       "      <td>22.0</td>\n",
       "    </tr>\n",
       "    <tr>\n",
       "      <th>502</th>\n",
       "      <td>41.0</td>\n",
       "    </tr>\n",
       "    <tr>\n",
       "      <th>109</th>\n",
       "      <td>24.0</td>\n",
       "    </tr>\n",
       "  </tbody>\n",
       "</table>\n",
       "</div>"
      ],
      "text/plain": [
       "      age\n",
       "397  22.0\n",
       "325  24.0\n",
       "97   22.0\n",
       "502  41.0\n",
       "109  24.0"
      ]
     },
     "execution_count": 37,
     "metadata": {},
     "output_type": "execute_result"
    }
   ],
   "source": [
    "test_y_df = test_df.iloc[:, -1].to_frame()\n",
    "test_y_df.head()"
   ]
  },
  {
   "cell_type": "code",
   "execution_count": 38,
   "id": "313ef6ce-4427-4305-81c0-0f10ab04f4b5",
   "metadata": {},
   "outputs": [],
   "source": [
    "del test_df"
   ]
  },
  {
   "cell_type": "markdown",
   "id": "44a81939-d8e9-4094-a688-c9c38e074526",
   "metadata": {},
   "source": [
    "### evaluate the model on the test data using the rmse metric"
   ]
  },
  {
   "cell_type": "code",
   "execution_count": 39,
   "id": "a6d0bc82-d079-4579-b30b-0e36647affd4",
   "metadata": {},
   "outputs": [
    {
     "name": "stdout",
     "output_type": "stream",
     "text": [
      "test_rmse: 9.51250840928766\n",
      "relative test_rmse: 0.28620373677983457\n"
     ]
    }
   ],
   "source": [
    "test_rmse = root_mean_squared_error(test_y_df, composite_estimator.predict(test_cap_x_df))\n",
    "print(f'test_rmse: {test_rmse}')\n",
    "\n",
    "print(f'relative test_rmse: {test_rmse/np.mean(test_y_df)}')"
   ]
  },
  {
   "cell_type": "markdown",
   "id": "8ddb0b35-7be3-45b6-a162-dd2981306d47",
   "metadata": {},
   "source": [
    "### summary of results"
   ]
  },
  {
   "cell_type": "markdown",
   "id": "3c4e7e8a-ffb9-4c08-a17f-a474ee00ebac",
   "metadata": {},
   "source": [
    "| 5-fold cv on train (rmse) | test rmse |\n",
    "|:-------------------------:|:---------:|\n",
    "|       9.7 +/- 0.6         |    9.5    |"
   ]
  },
  {
   "cell_type": "markdown",
   "id": "ad044182-0e2d-466e-87fe-8341ac41f70e",
   "metadata": {},
   "source": [
    "### Since the test set rmse of 9.5 falls within the train set 5-fold cv precision band (9.1 to 10.3) on the train set we can conclude that we are not overfitting the model. It is possible that a more flexible model might provide better predictions (lower rmse)."
   ]
  },
  {
   "cell_type": "markdown",
   "id": "321d9a6d",
   "metadata": {},
   "source": [
    "## check out script run time"
   ]
  },
  {
   "cell_type": "code",
   "execution_count": 40,
   "id": "3ebd9c81",
   "metadata": {},
   "outputs": [
    {
     "name": "stdout",
     "output_type": "stream",
     "text": [
      "script run time: 0.006210402647654215 minutes\n"
     ]
    }
   ],
   "source": [
    "end = time.time()\n",
    "print(f'script run time: {(end - start)/60} minutes')"
   ]
  }
 ],
 "metadata": {
  "kernelspec": {
   "display_name": "Python (conda_test_env)",
   "language": "python",
   "name": "conda_test_env"
  },
  "language_info": {
   "codemirror_mode": {
    "name": "ipython",
    "version": 3
   },
   "file_extension": ".py",
   "mimetype": "text/x-python",
   "name": "python",
   "nbconvert_exporter": "python",
   "pygments_lexer": "ipython3",
   "version": "3.12.2"
  }
 },
 "nbformat": 4,
 "nbformat_minor": 5
}
