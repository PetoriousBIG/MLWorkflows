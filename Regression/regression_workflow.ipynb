{
 "cells": [
  {
   "cell_type": "markdown",
   "id": "8db49d56-6f04-4e4f-8fb2-67c24f7e7112",
   "metadata": {},
   "source": [
    "## Import packages"
   ]
  },
  {
   "cell_type": "code",
   "execution_count": 1,
   "id": "db6a4544",
   "metadata": {},
   "outputs": [],
   "source": [
    "import sys\n",
    "import time\n",
    "import os\n",
    "from pathlib import Path\n",
    "\n",
    "import pandas as pd\n",
    "import numpy as np\n",
    "\n",
    "from sklearn.linear_model import LinearRegression\n",
    "from sklearn.linear_model import Ridge\n",
    "from sklearn.linear_model import Lasso\n",
    "from sklearn.linear_model import ElasticNet\n",
    "\n",
    "from sklearn.pipeline import Pipeline\n",
    "from sklearn.preprocessing import StandardScaler\n",
    "from sklearn.impute import SimpleImputer\n",
    "from sklearn.preprocessing import TargetEncoder\n",
    "from sklearn.compose import ColumnTransformer\n",
    "\n",
    "#import matplotlib.pyplot as plt"
   ]
  },
  {
   "cell_type": "markdown",
   "id": "d6d74520",
   "metadata": {},
   "source": [
    "## Set up for imports of .py modules by adding path to sys.path"
   ]
  },
  {
   "cell_type": "code",
   "execution_count": 2,
   "id": "ea617f3a",
   "metadata": {},
   "outputs": [
    {
     "name": "stdout",
     "output_type": "stream",
     "text": [
      "/home/peter/Desktop/MLWorkflows/Regression\n"
     ]
    }
   ],
   "source": [
    "path = Path(os.getcwd())\n",
    "path = str(path)\n",
    "print(path)\n",
    "sys.path.insert(1, path)"
   ]
  },
  {
   "cell_type": "markdown",
   "id": "594850d1-47d0-4d5f-b13d-4ea89277a4db",
   "metadata": {},
   "source": [
    "## Import python modules"
   ]
  },
  {
   "cell_type": "code",
   "execution_count": 3,
   "id": "8eb57fbe",
   "metadata": {},
   "outputs": [],
   "source": [
    "import utils.general as general_utils"
   ]
  },
  {
   "cell_type": "markdown",
   "id": "912da942-33ca-4fd1-b11c-15a853f86baa",
   "metadata": {},
   "source": [
    "## Helpful functions"
   ]
  },
  {
   "cell_type": "code",
   "execution_count": 4,
   "id": "2d345b29-3d24-4edd-b18a-c93eac2fc42a",
   "metadata": {},
   "outputs": [
    {
     "name": "stdout",
     "output_type": "stream",
     "text": [
      "No functions\n"
     ]
    }
   ],
   "source": [
    "print(\"No functions\")"
   ]
  },
  {
   "cell_type": "markdown",
   "id": "7372391d",
   "metadata": {},
   "source": [
    "## Parameters"
   ]
  },
  {
   "cell_type": "code",
   "execution_count": 5,
   "id": "79a0a7ae",
   "metadata": {},
   "outputs": [],
   "source": [
    "# Data\n",
    "data_file_path = 'data/source/Iris.csv'\n",
    "target_variable = 'PetalWidthCm'\n",
    "\n",
    "# Step 2\n",
    "test_ratio = 0.20\n",
    "split_random_state = 500\n",
    "\n",
    "# Step 3\n",
    "use_validation_set = True\n",
    "validation_ratio = 0.30\n",
    "validation_split_random_state = 1000\n",
    "\n",
    "# Step 5\n",
    "missingness_threshold = 0.20\n",
    "\n",
    "# Step 7\n",
    "ridge_random_state = 1500\n",
    "lasso_random_state = 2000\n",
    "elastic_net_random_state = 2500\n",
    "target_encoder_random_state = 3000"
   ]
  },
  {
   "cell_type": "markdown",
   "id": "65d7251a",
   "metadata": {},
   "source": [
    "## Set up to time script run time"
   ]
  },
  {
   "cell_type": "code",
   "execution_count": 6,
   "id": "c92dc12e",
   "metadata": {},
   "outputs": [],
   "source": [
    "start = time.time()"
   ]
  },
  {
   "cell_type": "markdown",
   "id": "4d6b6299",
   "metadata": {},
   "source": [
    "## Read in the data and get the size of the data."
   ]
  },
  {
   "cell_type": "code",
   "execution_count": 7,
   "id": "3a453de0",
   "metadata": {
    "scrolled": true
   },
   "outputs": [
    {
     "name": "stdout",
     "output_type": "stream",
     "text": [
      "(150, 6)\n"
     ]
    },
    {
     "data": {
      "text/html": [
       "<div>\n",
       "<style scoped>\n",
       "    .dataframe tbody tr th:only-of-type {\n",
       "        vertical-align: middle;\n",
       "    }\n",
       "\n",
       "    .dataframe tbody tr th {\n",
       "        vertical-align: top;\n",
       "    }\n",
       "\n",
       "    .dataframe thead th {\n",
       "        text-align: right;\n",
       "    }\n",
       "</style>\n",
       "<table border=\"1\" class=\"dataframe\">\n",
       "  <thead>\n",
       "    <tr style=\"text-align: right;\">\n",
       "      <th></th>\n",
       "      <th>Id</th>\n",
       "      <th>SepalLengthCm</th>\n",
       "      <th>SepalWidthCm</th>\n",
       "      <th>PetalLengthCm</th>\n",
       "      <th>PetalWidthCm</th>\n",
       "      <th>Species</th>\n",
       "    </tr>\n",
       "  </thead>\n",
       "  <tbody>\n",
       "    <tr>\n",
       "      <th>0</th>\n",
       "      <td>1</td>\n",
       "      <td>5.1</td>\n",
       "      <td>3.5</td>\n",
       "      <td>1.4</td>\n",
       "      <td>0.2</td>\n",
       "      <td>Iris-setosa</td>\n",
       "    </tr>\n",
       "    <tr>\n",
       "      <th>1</th>\n",
       "      <td>2</td>\n",
       "      <td>4.9</td>\n",
       "      <td>3.0</td>\n",
       "      <td>1.4</td>\n",
       "      <td>0.2</td>\n",
       "      <td>Iris-setosa</td>\n",
       "    </tr>\n",
       "    <tr>\n",
       "      <th>2</th>\n",
       "      <td>3</td>\n",
       "      <td>4.7</td>\n",
       "      <td>3.2</td>\n",
       "      <td>1.3</td>\n",
       "      <td>0.2</td>\n",
       "      <td>Iris-setosa</td>\n",
       "    </tr>\n",
       "    <tr>\n",
       "      <th>3</th>\n",
       "      <td>4</td>\n",
       "      <td>4.6</td>\n",
       "      <td>3.1</td>\n",
       "      <td>1.5</td>\n",
       "      <td>0.2</td>\n",
       "      <td>Iris-setosa</td>\n",
       "    </tr>\n",
       "    <tr>\n",
       "      <th>4</th>\n",
       "      <td>5</td>\n",
       "      <td>5.0</td>\n",
       "      <td>3.6</td>\n",
       "      <td>1.4</td>\n",
       "      <td>0.2</td>\n",
       "      <td>Iris-setosa</td>\n",
       "    </tr>\n",
       "  </tbody>\n",
       "</table>\n",
       "</div>"
      ],
      "text/plain": [
       "   Id  SepalLengthCm  SepalWidthCm  PetalLengthCm  PetalWidthCm      Species\n",
       "0   1            5.1           3.5            1.4           0.2  Iris-setosa\n",
       "1   2            4.9           3.0            1.4           0.2  Iris-setosa\n",
       "2   3            4.7           3.2            1.3           0.2  Iris-setosa\n",
       "3   4            4.6           3.1            1.5           0.2  Iris-setosa\n",
       "4   5            5.0           3.6            1.4           0.2  Iris-setosa"
      ]
     },
     "execution_count": 7,
     "metadata": {},
     "output_type": "execute_result"
    }
   ],
   "source": [
    "df = pd.read_csv(data_file_path)\n",
    "print(df.shape)\n",
    "df.head()"
   ]
  },
  {
   "cell_type": "markdown",
   "id": "2c4038d6-34e2-4a47-937f-4b656ad18d48",
   "metadata": {},
   "source": [
    "## 1. Check for missingness in target vector"
   ]
  },
  {
   "cell_type": "code",
   "execution_count": 8,
   "id": "731ef04d",
   "metadata": {},
   "outputs": [
    {
     "name": "stdout",
     "output_type": "stream",
     "text": [
      "(150, 6)\n",
      "(150, 6)\n"
     ]
    }
   ],
   "source": [
    "print(df.shape)\n",
    "df = df.dropna(subset=target_variable)\n",
    "print(df.shape)"
   ]
  },
  {
   "cell_type": "markdown",
   "id": "bee95090-d432-42c4-ad3c-d5c987f1ea3f",
   "metadata": {},
   "source": [
    "## 2. Train/Test Split"
   ]
  },
  {
   "cell_type": "markdown",
   "id": "f3beac77",
   "metadata": {},
   "source": [
    "### Split the data"
   ]
  },
  {
   "cell_type": "code",
   "execution_count": 9,
   "id": "cbc95443",
   "metadata": {},
   "outputs": [],
   "source": [
    "training_data, testing_data, training_target, testing_target = \\\n",
    "    general_utils.split_data(\n",
    "        df,\n",
    "        target_variable,\n",
    "        test_ratio,\n",
    "        split_random_state\n",
    "    )"
   ]
  },
  {
   "cell_type": "markdown",
   "id": "78442124-49a2-4bbe-920c-19b2812600d5",
   "metadata": {},
   "source": [
    "### Make sure every sample has a result"
   ]
  },
  {
   "cell_type": "code",
   "execution_count": 10,
   "id": "ba988a07-3ef0-4463-9e53-1ee9689ecc0c",
   "metadata": {},
   "outputs": [],
   "source": [
    "assert (list(training_data.index) == list(training_target.index))\n",
    "assert (list(testing_data.index) == list(testing_target.index))"
   ]
  },
  {
   "cell_type": "markdown",
   "id": "164f7098-16bc-4290-8d2f-40f41b027bc0",
   "metadata": {},
   "source": [
    "### Delete original dataframe"
   ]
  },
  {
   "cell_type": "code",
   "execution_count": 11,
   "id": "19394aee-e70a-4428-b487-e51386f5deff",
   "metadata": {},
   "outputs": [],
   "source": [
    "del df"
   ]
  },
  {
   "cell_type": "markdown",
   "id": "899bb4a1-a3dd-4091-b31d-b85be85a4398",
   "metadata": {},
   "source": [
    "### Save off the test data and delete the test dataframes to prevent leakage"
   ]
  },
  {
   "cell_type": "code",
   "execution_count": 12,
   "id": "13c79d5e-edf7-4532-9de8-c15c65ceeef2",
   "metadata": {},
   "outputs": [],
   "source": [
    "pd.concat([testing_data, testing_target], axis=1).to_csv('data/test/Iris_test.csv', index=True, index_label='index')"
   ]
  },
  {
   "cell_type": "code",
   "execution_count": 13,
   "id": "707ac291-750c-4345-bde9-9db81941cd5a",
   "metadata": {},
   "outputs": [],
   "source": [
    "del testing_data\n",
    "del testing_target"
   ]
  },
  {
   "cell_type": "markdown",
   "id": "679d5e9e",
   "metadata": {},
   "source": [
    "## 3. Train/Validation split"
   ]
  },
  {
   "cell_type": "code",
   "execution_count": 14,
   "id": "79a64042-bad4-41d5-8cd6-1ac9123625c3",
   "metadata": {},
   "outputs": [],
   "source": [
    "if use_validation_set:\n",
    "    training_data, validation_data, training_target, validation_target = \\\n",
    "    general_utils.split_data(\n",
    "        pd.concat([training_data, training_target], axis=1),\n",
    "        target_variable,\n",
    "        test_ratio,\n",
    "        split_random_state\n",
    "    )"
   ]
  },
  {
   "cell_type": "code",
   "execution_count": 15,
   "id": "4181c282-e627-4f68-8cf7-623742a03e94",
   "metadata": {},
   "outputs": [],
   "source": [
    "if use_validation_set:\n",
    "    assert (list(training_data.index) == list(training_target.index))\n",
    "    assert (list(validation_data.index) == list(validation_target.index))"
   ]
  },
  {
   "cell_type": "code",
   "execution_count": 16,
   "id": "9d96d238-a39a-4eba-b927-7e74f35dc306",
   "metadata": {},
   "outputs": [],
   "source": [
    "if use_validation_set:\n",
    "    pd.concat([validation_data, validation_target], axis=1).to_csv('data/validation/Iris_validation.csv', index=True, index_label='index')"
   ]
  },
  {
   "cell_type": "code",
   "execution_count": 17,
   "id": "82f187f7-fad3-4662-941f-bb73c7e10aef",
   "metadata": {},
   "outputs": [],
   "source": [
    "if use_validation_set:\n",
    "    del validation_data\n",
    "    del validation_target"
   ]
  },
  {
   "cell_type": "markdown",
   "id": "82a18266",
   "metadata": {},
   "source": [
    "## 4. Identify attributes with  missingness above threshold"
   ]
  },
  {
   "cell_type": "code",
   "execution_count": 18,
   "id": "a3b5acac",
   "metadata": {},
   "outputs": [
    {
     "name": "stdout",
     "output_type": "stream",
     "text": [
      "Id               0.0\n",
      "SepalLengthCm    0.0\n",
      "SepalWidthCm     0.0\n",
      "PetalLengthCm    0.0\n",
      "Species          0.0\n",
      "dtype: float64\n"
     ]
    },
    {
     "data": {
      "text/plain": [
       "[]"
      ]
     },
     "execution_count": 18,
     "metadata": {},
     "output_type": "execute_result"
    }
   ],
   "source": [
    "missingness_drop_list = general_utils.calculate_missingness(training_data, missingness_threshold)\n",
    "missingness_drop_list"
   ]
  },
  {
   "cell_type": "markdown",
   "id": "8431b9e1-f0bd-40ef-90d4-0b41eadb0af3",
   "metadata": {},
   "source": [
    "## 5. Identify non machine learning attributes. Id columns, for example"
   ]
  },
  {
   "cell_type": "code",
   "execution_count": 19,
   "id": "4bed27bb",
   "metadata": {},
   "outputs": [
    {
     "name": "stdout",
     "output_type": "stream",
     "text": [
      "The data frame has 96 rows\n",
      "\n",
      "Id has 96 unique values and is dtype int64 examine more closely\n",
      "SepalLengthCm has 34 unique values and is dtype float64 \n",
      "SepalWidthCm has 20 unique values and is dtype float64 \n",
      "PetalLengthCm has 43 unique values and is dtype float64 \n",
      "Species has 3 unique values and is dtype object \n"
     ]
    },
    {
     "data": {
      "text/plain": [
       "['Id']"
      ]
     },
     "execution_count": 19,
     "metadata": {},
     "output_type": "execute_result"
    }
   ],
   "source": [
    "general_utils.print_uniqueness(training_data)"
   ]
  },
  {
   "cell_type": "code",
   "execution_count": 20,
   "id": "7595578e-b6eb-4a39-92f0-6c71a536993a",
   "metadata": {},
   "outputs": [],
   "source": [
    "non_machine_learning_attributes = ['Id'] # Fill this in manually with suspects of above."
   ]
  },
  {
   "cell_type": "markdown",
   "id": "f08cc3c8",
   "metadata": {},
   "source": [
    "## 6. Establish machine learning attribute configuration"
   ]
  },
  {
   "cell_type": "code",
   "execution_count": 21,
   "id": "92d2efee-cb94-46f6-8b8c-3f8f32c96e63",
   "metadata": {},
   "outputs": [
    {
     "data": {
      "text/plain": [
       "['Id']"
      ]
     },
     "execution_count": 21,
     "metadata": {},
     "output_type": "execute_result"
    }
   ],
   "source": [
    "ml_ignore_list = missingness_drop_list + non_machine_learning_attributes\n",
    "ml_ignore_list"
   ]
  },
  {
   "cell_type": "code",
   "execution_count": 22,
   "id": "cb4eabf2",
   "metadata": {},
   "outputs": [
    {
     "name": "stdout",
     "output_type": "stream",
     "text": [
      "ml_ignore_list: ['Id']\n",
      "\n",
      "numerical_attr: ['SepalLengthCm', 'SepalWidthCm', 'PetalLengthCm']\n",
      "nominal_attr: ['Species']\n",
      "\n",
      "number of machine learning attributes: 4\n",
      "\n",
      "numerical_attr and nominal_attr: ['SepalLengthCm', 'SepalWidthCm', 'PetalLengthCm', 'Species']\n"
     ]
    }
   ],
   "source": [
    "# identify the remaining numerical attributes to be used in machine learning and enter them into the \n",
    "# numerical_attr list below.\n",
    "\n",
    "numerical_attributes = ['SepalLengthCm', 'SepalWidthCm', 'PetalLengthCm']\n",
    "\n",
    "# identify the remaining nominal attributes to be used in machine learning and enter them into the \n",
    "# nominal_attr list below.\n",
    "\n",
    "nominal_attributes = ['Species']\n",
    "\n",
    "print(f'ml_ignore_list: {ml_ignore_list}')\n",
    "print(f'\\nnumerical_attr: {numerical_attributes}')\n",
    "print(f'nominal_attr: {nominal_attributes}')\n",
    "\n",
    "print(f'\\nnumber of machine learning attributes: {len(numerical_attributes) + len(nominal_attributes)}')\n",
    "print(f'\\nnumerical_attr and nominal_attr: {numerical_attributes + nominal_attributes}')\n",
    "\n",
    "assert(training_data.shape[1] == len(ml_ignore_list) + len(nominal_attributes) + len(numerical_attributes))  # got them all?"
   ]
  },
  {
   "cell_type": "markdown",
   "id": "43b09f9e-22ae-4065-af86-877d12a3893c",
   "metadata": {},
   "source": [
    "## 7. Build a dictionary of default estimators"
   ]
  },
  {
   "cell_type": "code",
   "execution_count": 23,
   "id": "7eb10050-ba78-48c5-94a5-50f8380d3f28",
   "metadata": {},
   "outputs": [],
   "source": [
    "e = [\n",
    "    ('LinearRegression', LinearRegression(\n",
    "        fit_intercept=True,\n",
    "        copy_X=True,\n",
    "        n_jobs=None,\n",
    "        positive=False\n",
    "    )),\n",
    "    ('Ridge', Ridge(\n",
    "        alpha=1.0,\n",
    "        fit_intercept=True,\n",
    "        copy_X=True,\n",
    "        max_iter=None,\n",
    "        tol=0.0001,\n",
    "        solver='auto',\n",
    "        positive=False,\n",
    "        random_state=2500\n",
    "    )),\n",
    "    ('Lasso', Lasso(\n",
    "        alpha=1.0,\n",
    "        fit_intercept=True,\n",
    "        precompute=False,\n",
    "        copy_X=True,\n",
    "        max_iter=1000,\n",
    "        tol=0.0001,\n",
    "        warm_start=False,\n",
    "        positive=False,\n",
    "        random_state=2500,\n",
    "        selection='cyclic'\n",
    "    )),\n",
    "    ('ElasticNet', ElasticNet(\n",
    "        alpha=1.0, \n",
    "        l1_ratio=0.5, \n",
    "        fit_intercept=True, \n",
    "        precompute=False, \n",
    "        max_iter=1000, \n",
    "        copy_X=True, \n",
    "        tol=0.0001, \n",
    "        warm_start=False, \n",
    "        positive=False, \n",
    "        random_state=elastic_net_random_state, \n",
    "        selection='cyclic' \n",
    "    ))\n",
    "]\n",
    "\n",
    "estimators = {\n",
    "\n",
    "    e[0][0]: e[0][1], # LinearRegression\n",
    "    e[1][0]: e[1][1], # Ridge\n",
    "    e[2][0]: e[2][1], # Lasso\n",
    "    e[3][0]: e[3][1], # ElasticNet\n",
    "}"
   ]
  },
  {
   "cell_type": "markdown",
   "id": "38b1248b-3585-402f-b704-c281aa4b2085",
   "metadata": {},
   "source": [
    "### Build a preprocessor pipeline"
   ]
  },
  {
   "cell_type": "code",
   "execution_count": 24,
   "id": "1dc91c47-9525-4789-b583-ff9a7c3d38e3",
   "metadata": {},
   "outputs": [],
   "source": [
    "numerical_transformer = Pipeline(\n",
    "    steps=[\n",
    "        (\"imputer\", SimpleImputer()),\n",
    "        (\"scaler\", StandardScaler())\n",
    "    ]\n",
    ")"
   ]
  },
  {
   "cell_type": "code",
   "execution_count": 25,
   "id": "84f9340e-293a-403e-ad75-282ffa41f981",
   "metadata": {},
   "outputs": [],
   "source": [
    "nominal_transformer = Pipeline(\n",
    "    steps=[\n",
    "        (\"imputer\", SimpleImputer(strategy='most_frequent')),\n",
    "        (\"target_encoder\", TargetEncoder(\n",
    "                    categories='auto', \n",
    "                    target_type='continuous', \n",
    "                    smooth='auto', \n",
    "                    cv=5, \n",
    "                    shuffle=True, \n",
    "                    random_state=target_encoder_random_state\n",
    "                )\n",
    "        ),\n",
    "        (\"scaler\", StandardScaler())\n",
    "    ]\n",
    ")"
   ]
  },
  {
   "cell_type": "code",
   "execution_count": 26,
   "id": "1477a8df-4292-4c84-ae25-aea0660c334b",
   "metadata": {},
   "outputs": [
    {
     "ename": "NameError",
     "evalue": "name 'ColumnTransformer' is not defined",
     "output_type": "error",
     "traceback": [
      "\u001b[0;31m---------------------------------------------------------------------------\u001b[0m",
      "\u001b[0;31mNameError\u001b[0m                                 Traceback (most recent call last)",
      "Cell \u001b[0;32mIn[26], line 1\u001b[0m\n\u001b[0;32m----> 1\u001b[0m preprocessor \u001b[38;5;241m=\u001b[39m ColumnTransformer(\n\u001b[1;32m      2\u001b[0m         transformers\u001b[38;5;241m=\u001b[39m[\n\u001b[1;32m      3\u001b[0m             (\u001b[38;5;124m'\u001b[39m\u001b[38;5;124mnominal\u001b[39m\u001b[38;5;124m'\u001b[39m, nominal_transformer, nominal_attributes),\n\u001b[1;32m      4\u001b[0m             (\u001b[38;5;124m'\u001b[39m\u001b[38;5;124mnumerical\u001b[39m\u001b[38;5;124m'\u001b[39m, numerical_transformer, numerical_attributes)\n\u001b[1;32m      5\u001b[0m         ]\n\u001b[1;32m      6\u001b[0m )\n",
      "\u001b[0;31mNameError\u001b[0m: name 'ColumnTransformer' is not defined"
     ]
    }
   ],
   "source": [
    "preprocessor = ColumnTransformer(\n",
    "        transformers=[\n",
    "            ('nominal', nominal_transformer, nominal_attributes),\n",
    "            ('numerical', numerical_transformer, numerical_attributes)\n",
    "        ]\n",
    ")"
   ]
  },
  {
   "cell_type": "markdown",
   "id": "dee0c13a",
   "metadata": {},
   "source": [
    "## 10. survey (fit and evaluate)  default composite estimators"
   ]
  },
  {
   "cell_type": "markdown",
   "id": "4e06a9a4-68a1-4eaf-9af3-b48820139962",
   "metadata": {},
   "source": [
    "### since we are only working with one estimator our survey is over just one estimator"
   ]
  },
  {
   "cell_type": "markdown",
   "id": "16647fed-ea1b-4031-ad86-b1a9f2ba8648",
   "metadata": {},
   "source": [
    "### fit the composite estimator"
   ]
  },
  {
   "cell_type": "code",
   "execution_count": null,
   "id": "10b03472-fc2b-4e80-a4b2-9611503d3b7f",
   "metadata": {},
   "outputs": [],
   "source": [
    "composite_estimator.fit(train_cap_x_df, train_y_df.values.ravel())"
   ]
  },
  {
   "cell_type": "markdown",
   "id": "3e414318-328b-4d4e-8172-3cfab8a5f150",
   "metadata": {},
   "source": [
    "### check out the regression coefficients and the intercept"
   ]
  },
  {
   "cell_type": "code",
   "execution_count": null,
   "id": "abeeac4e-7b87-43bf-ae2a-2be0342c257d",
   "metadata": {},
   "outputs": [],
   "source": [
    "# what are the estimated coefficients for the linear regression problem\n",
    "\n",
    "composite_estimator[1].coef_"
   ]
  },
  {
   "cell_type": "code",
   "execution_count": null,
   "id": "9e7f093d-f69e-48a8-bec2-8c5aa7c5e0d7",
   "metadata": {},
   "outputs": [],
   "source": [
    "# what is the intercept of the linear regression problem\n",
    "\n",
    "composite_estimator[1].intercept_"
   ]
  },
  {
   "cell_type": "code",
   "execution_count": null,
   "id": "a08a9a4e-0d9a-4d48-aa35-39ac59888836",
   "metadata": {},
   "outputs": [],
   "source": [
    "# access the attribute names going into the estimator step of the pipeline\n",
    "\n",
    "composite_estimator[0].get_feature_names_out()"
   ]
  },
  {
   "cell_type": "code",
   "execution_count": null,
   "id": "eaaeb16f-4f0a-4403-b223-8418eef6b5f8",
   "metadata": {},
   "outputs": [],
   "source": [
    "# make a dictionary that has the attribute names as keys and the corresponding estimated coefficients for the linear regression problem\n",
    "# as values\n",
    "\n",
    "names = ['intercept'] + [attr_name.split('_')[2] for attr_name in composite_estimator[0].get_feature_names_out()]\n",
    "coef_values = [composite_estimator[1].intercept_] + list(composite_estimator[1].coef_)\n",
    "lin_reg_parameters_dict = dict(zip(names, coef_values))\n",
    "\n",
    "lin_reg_parameters_dict"
   ]
  },
  {
   "cell_type": "markdown",
   "id": "a079c5e3-e802-4a44-9f98-2656e3fc151c",
   "metadata": {},
   "source": [
    "### Note that these are equal to those found using the stasmodel OLS API. "
   ]
  },
  {
   "cell_type": "markdown",
   "id": "1886c0c2-649d-4e04-9bd2-f72c799edc02",
   "metadata": {},
   "source": [
    "### evaluate the training error using root mean squared error (rmse)"
   ]
  },
  {
   "cell_type": "code",
   "execution_count": null,
   "id": "f15fa579-ddf3-49cb-8a6a-f01e28689444",
   "metadata": {},
   "outputs": [],
   "source": [
    "train_rmse = root_mean_squared_error(train_y_df, composite_estimator.predict(train_cap_x_df))\n",
    "print(f'train_rmse: {train_rmse}')\n",
    "\n",
    "print(f'relative train_rmse: {train_rmse/np.mean(train_y_df)}')"
   ]
  },
  {
   "cell_type": "markdown",
   "id": "fa7eeff0-d59b-4728-a2c4-b57719b8028a",
   "metadata": {},
   "source": [
    "### evaluate the model using rmse and n-fold cross validation on the train set"
   ]
  },
  {
   "cell_type": "markdown",
   "id": "5a45a38c-12df-4fbe-83ef-789f95be6ade",
   "metadata": {},
   "source": [
    "The following code randomly splits the training set into 5 nonoverlapping subsets called folds, then it trains and evaluates the linear regression model 5 times, picking a different fold for evaluation every time and using the other 4 folds for training. The result is an array containing the 5 evaluation scores."
   ]
  },
  {
   "cell_type": "code",
   "execution_count": null,
   "id": "c9ef035a-4d3e-484c-b600-5f7b7994b5ce",
   "metadata": {},
   "outputs": [],
   "source": [
    "cv_rmse = cross_val_score(\n",
    "    estimator=composite_estimator, \n",
    "    X=train_cap_x_df,\n",
    "    y=train_y_df.values.ravel(),\n",
    "    groups=None, \n",
    "    scoring='neg_root_mean_squared_error', \n",
    "    cv=5, \n",
    "    n_jobs=None, \n",
    "    verbose=0, \n",
    "    fit_params=None, \n",
    "    params=None, \n",
    "    pre_dispatch='2*n_jobs', \n",
    "    error_score=np.nan\n",
    ")\n",
    "cv_rmse = -1 * cv_rmse\n",
    "cv_rmse"
   ]
  },
  {
   "cell_type": "code",
   "execution_count": null,
   "id": "27678393-4daf-4dbb-b1b3-c55194b25a60",
   "metadata": {},
   "outputs": [],
   "source": [
    "print(f'estimated model rmse: {np.mean(cv_rmse)}')\n",
    "print(f'precision of estimated model rmse: {np.std(cv_rmse, ddof=1)}')"
   ]
  },
  {
   "cell_type": "markdown",
   "id": "806c51ef-8471-4dd8-be49-31734b1b6f38",
   "metadata": {},
   "source": [
    "### plot predicted vs actual"
   ]
  },
  {
   "cell_type": "code",
   "execution_count": null,
   "id": "93c5e7ca-d877-406c-a099-2fbe79a32cf2",
   "metadata": {},
   "outputs": [],
   "source": [
    "plot_pred_vs_actual(composite_estimator.predict(train_cap_x_df), train_y_df, 'train')"
   ]
  },
  {
   "cell_type": "markdown",
   "id": "67220555-becc-4a4d-8c4a-d0ca550b850d",
   "metadata": {},
   "source": [
    "## 11. short list default composite estimators"
   ]
  },
  {
   "cell_type": "markdown",
   "id": "7801faaf-b56e-41de-af5d-dd24c1d8c173",
   "metadata": {},
   "source": [
    "### Note that since we are only working with one estimator there is no reason to short list"
   ]
  },
  {
   "cell_type": "markdown",
   "id": "84616cac-25e7-46e9-9cf0-ce815c9b3c18",
   "metadata": {},
   "source": [
    "## 12. tune hyperparameters of short-listed composite estimators"
   ]
  },
  {
   "cell_type": "markdown",
   "id": "a987b431-943c-4020-b70b-71d604158ca6",
   "metadata": {},
   "source": [
    "### Note that the statsmodels OLS API does not have any model flexibility hyper parameters so we cannot tune the estimator."
   ]
  },
  {
   "cell_type": "markdown",
   "id": "86c460d1-87d0-42a5-84fb-bc887b5358da",
   "metadata": {},
   "source": [
    "## 13. evaluate tuned composite estimators"
   ]
  },
  {
   "cell_type": "markdown",
   "id": "104728b1-1c86-4f56-8c09-ea63fe09ff06",
   "metadata": {},
   "source": [
    "### Note that the statsmodels OLS API does not have any model flexibility hyper parameters so we cannot evaluate a tuned estimator."
   ]
  },
  {
   "cell_type": "markdown",
   "id": "55334204-5874-4a5e-917b-cd5d88efcd9c",
   "metadata": {},
   "source": [
    "## 14. check for false discoveries"
   ]
  },
  {
   "cell_type": "markdown",
   "id": "2f7959c6-d4ab-4473-941d-99553cd1375b",
   "metadata": {},
   "source": [
    "### This is an advanced topic and will be covered latter in the course."
   ]
  },
  {
   "cell_type": "markdown",
   "id": "8ac7930e-864c-4f7e-9d49-12ad97be5c2e",
   "metadata": {},
   "source": [
    "## 15. select a model"
   ]
  },
  {
   "cell_type": "markdown",
   "id": "9104eb01-0bdc-4955-869d-0e864d223672",
   "metadata": {},
   "source": [
    "### Model selection is trivial as we only have one model in this modeling effort."
   ]
  },
  {
   "cell_type": "markdown",
   "id": "8b38bf02-871e-4ac1-a201-45650fd934ce",
   "metadata": {},
   "source": [
    "## 16. evaluate generalization -  make predictions on the test set with the model"
   ]
  },
  {
   "cell_type": "markdown",
   "id": "3d3f209d-d637-4a52-a7db-5ae6df562927",
   "metadata": {},
   "source": [
    "### load the test set"
   ]
  },
  {
   "cell_type": "code",
   "execution_count": null,
   "id": "51095346-baa2-4386-9aa3-e84377f7ff3a",
   "metadata": {},
   "outputs": [],
   "source": [
    "test_df = pd.read_csv('test_df.csv', index_col='index')\n",
    "test_df.index.name = None\n",
    "test_df.head()"
   ]
  },
  {
   "cell_type": "markdown",
   "id": "706080e4-ebc6-4fcd-809e-a68e221de172",
   "metadata": {},
   "source": [
    "### break test_df apart into the design matrix (test_cap_x_df) and the target vector (test_y_df) then delete test_df"
   ]
  },
  {
   "cell_type": "code",
   "execution_count": null,
   "id": "9e91c2ed-9092-4974-b824-15b89eac7e0d",
   "metadata": {},
   "outputs": [],
   "source": [
    "test_cap_x_df = test_df.iloc[:, :-1]\n",
    "test_cap_x_df.head()"
   ]
  },
  {
   "cell_type": "code",
   "execution_count": null,
   "id": "a6f2dca2-2f35-4a40-b79f-dd199ed75df0",
   "metadata": {},
   "outputs": [],
   "source": [
    "test_y_df = test_df.iloc[:, -1].to_frame()\n",
    "test_y_df.head()"
   ]
  },
  {
   "cell_type": "code",
   "execution_count": null,
   "id": "313ef6ce-4427-4305-81c0-0f10ab04f4b5",
   "metadata": {},
   "outputs": [],
   "source": [
    "del test_df"
   ]
  },
  {
   "cell_type": "markdown",
   "id": "44a81939-d8e9-4094-a688-c9c38e074526",
   "metadata": {},
   "source": [
    "### evaluate the model on the test data using the rmse metric"
   ]
  },
  {
   "cell_type": "code",
   "execution_count": null,
   "id": "a6d0bc82-d079-4579-b30b-0e36647affd4",
   "metadata": {},
   "outputs": [],
   "source": [
    "test_rmse = root_mean_squared_error(test_y_df, composite_estimator.predict(test_cap_x_df))\n",
    "print(f'test_rmse: {test_rmse}')\n",
    "\n",
    "print(f'relative test_rmse: {test_rmse/np.mean(test_y_df)}')"
   ]
  },
  {
   "cell_type": "markdown",
   "id": "8ddb0b35-7be3-45b6-a162-dd2981306d47",
   "metadata": {},
   "source": [
    "### summary of results"
   ]
  },
  {
   "cell_type": "markdown",
   "id": "3c4e7e8a-ffb9-4c08-a17f-a474ee00ebac",
   "metadata": {},
   "source": [
    "| 5-fold cv on train (rmse) | test rmse |\n",
    "|:-------------------------:|:---------:|\n",
    "|       9.7 +/- 0.6         |    9.5    |"
   ]
  },
  {
   "cell_type": "markdown",
   "id": "ad044182-0e2d-466e-87fe-8341ac41f70e",
   "metadata": {},
   "source": [
    "### Since the test set rmse of 9.5 falls within the train set 5-fold cv precision band (9.1 to 10.3) on the train set we can conclude that we are not overfitting the model. It is possible that a more flexible model might provide better predictions (lower rmse)."
   ]
  },
  {
   "cell_type": "markdown",
   "id": "321d9a6d",
   "metadata": {},
   "source": [
    "## check out script run time"
   ]
  },
  {
   "cell_type": "code",
   "execution_count": null,
   "id": "3ebd9c81",
   "metadata": {},
   "outputs": [],
   "source": [
    "end = time.time()\n",
    "print(f'script run time: {(end - start)/60} minutes')"
   ]
  }
 ],
 "metadata": {
  "kernelspec": {
   "display_name": "Python (SML)",
   "language": "python",
   "name": "sml"
  },
  "language_info": {
   "codemirror_mode": {
    "name": "ipython",
    "version": 3
   },
   "file_extension": ".py",
   "mimetype": "text/x-python",
   "name": "python",
   "nbconvert_exporter": "python",
   "pygments_lexer": "ipython3",
   "version": "3.12.2"
  }
 },
 "nbformat": 4,
 "nbformat_minor": 5
}
